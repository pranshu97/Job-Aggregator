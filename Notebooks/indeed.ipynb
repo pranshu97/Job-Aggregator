{
 "cells": [
  {
   "cell_type": "code",
   "execution_count": 1,
   "metadata": {},
   "outputs": [],
   "source": [
    "import selenium\n",
    "from selenium import webdriver\n",
    "import pandas as pd"
   ]
  },
  {
   "cell_type": "code",
   "execution_count": 13,
   "metadata": {},
   "outputs": [],
   "source": [
    "DRIVER_PATH = './chromedriver.exe'\n",
    "wd = webdriver.Chrome(executable_path=DRIVER_PATH)\n",
    "url = 'https://www.indeed.co.in/jobs?q='"
   ]
  },
  {
   "cell_type": "code",
   "execution_count": 14,
   "metadata": {},
   "outputs": [],
   "source": [
    "skill = 'data science'\n",
    "loc = 'bengaluru'\n",
    "exp = 0"
   ]
  },
  {
   "cell_type": "code",
   "execution_count": 15,
   "metadata": {},
   "outputs": [],
   "source": [
    "url_skill = '+'.join(skill.split())"
   ]
  },
  {
   "cell_type": "code",
   "execution_count": 16,
   "metadata": {},
   "outputs": [
    {
     "data": {
      "text/plain": [
       "'https://www.indeed.co.in/jobs?q=data+science&l=bengaluru'"
      ]
     },
     "execution_count": 16,
     "metadata": {},
     "output_type": "execute_result"
    }
   ],
   "source": [
    "url = url + url_skill + '&l=' + loc\n",
    "url"
   ]
  },
  {
   "cell_type": "code",
   "execution_count": 17,
   "metadata": {},
   "outputs": [],
   "source": [
    "wd.get(url)"
   ]
  },
  {
   "cell_type": "code",
   "execution_count": 49,
   "metadata": {},
   "outputs": [],
   "source": [
    "try:\n",
    "    container = wd.find_element_by_id(\"resultsCol\")\n",
    "    divs = container.find_elements_by_xpath('div[@class=\"jobsearch-SerpJobCard unifiedRow row result clickcard\"]')\n",
    "except:\n",
    "    pass\n",
    "data = [['Title','Company','ctc','experience','location','Description','skills_required','link']]\n",
    "i=0\n",
    "for div in divs:\n",
    "    try:\n",
    "        title = div.find_element_by_class_name(\"title\").find_element_by_tag_name(\"a\")\n",
    "        name = title.text\n",
    "        link = title.get_attribute(\"href\")\n",
    "    except:\n",
    "        continue\n",
    "    try:\n",
    "        company = div.find_element_by_class_name(\"company\").text\n",
    "    except:\n",
    "        company='Not Available'\n",
    "    try:\n",
    "        sal = div.find_element_by_class_name(\"salaryText\").text\n",
    "    except:\n",
    "        sal = 'Not Available'\n",
    "    try:\n",
    "        location = div.find_element_by_xpath('//div[@class=\"location accessible-contrast-color-location\"]').text\n",
    "    except:\n",
    "        location='Not Available'\n",
    "    try:\n",
    "        jd = div.find_element_by_class_name(\"summary\").text\n",
    "    except:\n",
    "        jd = 'Not Available'\n",
    "    exp = 'Not Available'\n",
    "    req_skills = 'Not Available'\n",
    "    data.append([name,company,sal,exp,location,jd,req_skills,link])\n",
    "    i+=1\n",
    "    if i==10:\n",
    "        break"
   ]
  },
  {
   "cell_type": "code",
   "execution_count": 51,
   "metadata": {},
   "outputs": [
    {
     "data": {
      "text/html": [
       "<div>\n",
       "<style scoped>\n",
       "    .dataframe tbody tr th:only-of-type {\n",
       "        vertical-align: middle;\n",
       "    }\n",
       "\n",
       "    .dataframe tbody tr th {\n",
       "        vertical-align: top;\n",
       "    }\n",
       "\n",
       "    .dataframe thead th {\n",
       "        text-align: right;\n",
       "    }\n",
       "</style>\n",
       "<table border=\"1\" class=\"dataframe\">\n",
       "  <thead>\n",
       "    <tr style=\"text-align: right;\">\n",
       "      <th></th>\n",
       "      <th>Title</th>\n",
       "      <th>Company</th>\n",
       "      <th>ctc</th>\n",
       "      <th>experience</th>\n",
       "      <th>location</th>\n",
       "      <th>Description</th>\n",
       "      <th>skills_required</th>\n",
       "      <th>link</th>\n",
       "    </tr>\n",
       "  </thead>\n",
       "  <tbody>\n",
       "    <tr>\n",
       "      <td>0</td>\n",
       "      <td>Data Management Specialist</td>\n",
       "      <td>Telstra</td>\n",
       "      <td>Not Available</td>\n",
       "      <td>Not Available</td>\n",
       "      <td>Karnataka</td>\n",
       "      <td>Experience related to data analytic/data remed...</td>\n",
       "      <td>Not Available</td>\n",
       "      <td>https://www.indeed.co.in/pagead/clk?mo=r&amp;ad=-6...</td>\n",
       "    </tr>\n",
       "    <tr>\n",
       "      <td>1</td>\n",
       "      <td>Data Scientist</td>\n",
       "      <td>HP</td>\n",
       "      <td>Not Available</td>\n",
       "      <td>Not Available</td>\n",
       "      <td>Karnataka</td>\n",
       "      <td>Ability to merge different data sources, analy...</td>\n",
       "      <td>Not Available</td>\n",
       "      <td>https://www.indeed.co.in/pagead/clk?mo=r&amp;ad=-6...</td>\n",
       "    </tr>\n",
       "    <tr>\n",
       "      <td>2</td>\n",
       "      <td>Junior SaaS Sales Manager - Remote Position</td>\n",
       "      <td>StartUs Insights</td>\n",
       "      <td>₹45,000 - ₹60,000 a month</td>\n",
       "      <td>Not Available</td>\n",
       "      <td>Karnataka</td>\n",
       "      <td>We’re StartUs Insights, an international data ...</td>\n",
       "      <td>Not Available</td>\n",
       "      <td>https://www.indeed.co.in/pagead/clk?mo=r&amp;ad=-6...</td>\n",
       "    </tr>\n",
       "    <tr>\n",
       "      <td>3</td>\n",
       "      <td>Java Developer</td>\n",
       "      <td>Applied Materials Inc.</td>\n",
       "      <td>Not Available</td>\n",
       "      <td>Not Available</td>\n",
       "      <td>Karnataka</td>\n",
       "      <td>As a Tech lead your primary responsibility wil...</td>\n",
       "      <td>Not Available</td>\n",
       "      <td>https://www.indeed.co.in/pagead/clk?mo=r&amp;ad=-6...</td>\n",
       "    </tr>\n",
       "    <tr>\n",
       "      <td>4</td>\n",
       "      <td>Data Analyst</td>\n",
       "      <td>Siemens AG</td>\n",
       "      <td>Not Available</td>\n",
       "      <td>Not Available</td>\n",
       "      <td>Karnataka</td>\n",
       "      <td>You will be Acquire data from multiple systems...</td>\n",
       "      <td>Not Available</td>\n",
       "      <td>https://www.indeed.co.in/rc/clk?jk=ef5f4b309af...</td>\n",
       "    </tr>\n",
       "    <tr>\n",
       "      <td>5</td>\n",
       "      <td>Junior Data Scientist</td>\n",
       "      <td>Ninestars Information Technologies</td>\n",
       "      <td>₹2,00,000 - ₹4,00,000 a year</td>\n",
       "      <td>Not Available</td>\n",
       "      <td>Karnataka</td>\n",
       "      <td>We are looking for Data Science Fresher’s cand...</td>\n",
       "      <td>Not Available</td>\n",
       "      <td>https://www.indeed.co.in/company/Ninestars-Inf...</td>\n",
       "    </tr>\n",
       "    <tr>\n",
       "      <td>6</td>\n",
       "      <td>Data Scientist Intern Job</td>\n",
       "      <td>Dasceq</td>\n",
       "      <td>₹2,00,000 - ₹3,00,000 a year</td>\n",
       "      <td>Not Available</td>\n",
       "      <td>Karnataka</td>\n",
       "      <td>To manipulate data and draw insights from larg...</td>\n",
       "      <td>Not Available</td>\n",
       "      <td>https://www.indeed.co.in/rc/clk?jk=effacadbb8e...</td>\n",
       "    </tr>\n",
       "    <tr>\n",
       "      <td>7</td>\n",
       "      <td>Data Science expert</td>\n",
       "      <td>Segler Tech</td>\n",
       "      <td>Not Available</td>\n",
       "      <td>Not Available</td>\n",
       "      <td>Karnataka</td>\n",
       "      <td>Looking for a Data Science exert with minimum ...</td>\n",
       "      <td>Not Available</td>\n",
       "      <td>https://www.indeed.co.in/company/Segler-Techno...</td>\n",
       "    </tr>\n",
       "    <tr>\n",
       "      <td>8</td>\n",
       "      <td>Data Science Internship</td>\n",
       "      <td>Mahindra Teqo Private Limited</td>\n",
       "      <td>₹8,000 a month</td>\n",
       "      <td>Not Available</td>\n",
       "      <td>Karnataka</td>\n",
       "      <td>Develop visualizations on static and real-time...</td>\n",
       "      <td>Not Available</td>\n",
       "      <td>https://www.indeed.co.in/rc/clk?jk=074c50caa30...</td>\n",
       "    </tr>\n",
       "    <tr>\n",
       "      <td>9</td>\n",
       "      <td>Data Annotators for Machine Learning</td>\n",
       "      <td>Shortlyst.ai</td>\n",
       "      <td>₹8,000 - ₹15,000 a month</td>\n",
       "      <td>Not Available</td>\n",
       "      <td>Karnataka</td>\n",
       "      <td>Engage in data entry.\\nThis is a business proc...</td>\n",
       "      <td>Not Available</td>\n",
       "      <td>https://www.indeed.co.in/company/Shortlyst.ai/...</td>\n",
       "    </tr>\n",
       "  </tbody>\n",
       "</table>\n",
       "</div>"
      ],
      "text/plain": [
       "                                         Title  \\\n",
       "0                   Data Management Specialist   \n",
       "1                               Data Scientist   \n",
       "2  Junior SaaS Sales Manager - Remote Position   \n",
       "3                               Java Developer   \n",
       "4                                 Data Analyst   \n",
       "5                        Junior Data Scientist   \n",
       "6                    Data Scientist Intern Job   \n",
       "7                          Data Science expert   \n",
       "8                      Data Science Internship   \n",
       "9         Data Annotators for Machine Learning   \n",
       "\n",
       "                              Company                           ctc  \\\n",
       "0                             Telstra                 Not Available   \n",
       "1                                  HP                 Not Available   \n",
       "2                    StartUs Insights     ₹45,000 - ₹60,000 a month   \n",
       "3              Applied Materials Inc.                 Not Available   \n",
       "4                          Siemens AG                 Not Available   \n",
       "5  Ninestars Information Technologies  ₹2,00,000 - ₹4,00,000 a year   \n",
       "6                              Dasceq  ₹2,00,000 - ₹3,00,000 a year   \n",
       "7                         Segler Tech                 Not Available   \n",
       "8       Mahindra Teqo Private Limited                ₹8,000 a month   \n",
       "9                        Shortlyst.ai      ₹8,000 - ₹15,000 a month   \n",
       "\n",
       "      experience   location  \\\n",
       "0  Not Available  Karnataka   \n",
       "1  Not Available  Karnataka   \n",
       "2  Not Available  Karnataka   \n",
       "3  Not Available  Karnataka   \n",
       "4  Not Available  Karnataka   \n",
       "5  Not Available  Karnataka   \n",
       "6  Not Available  Karnataka   \n",
       "7  Not Available  Karnataka   \n",
       "8  Not Available  Karnataka   \n",
       "9  Not Available  Karnataka   \n",
       "\n",
       "                                         Description skills_required  \\\n",
       "0  Experience related to data analytic/data remed...   Not Available   \n",
       "1  Ability to merge different data sources, analy...   Not Available   \n",
       "2  We’re StartUs Insights, an international data ...   Not Available   \n",
       "3  As a Tech lead your primary responsibility wil...   Not Available   \n",
       "4  You will be Acquire data from multiple systems...   Not Available   \n",
       "5  We are looking for Data Science Fresher’s cand...   Not Available   \n",
       "6  To manipulate data and draw insights from larg...   Not Available   \n",
       "7  Looking for a Data Science exert with minimum ...   Not Available   \n",
       "8  Develop visualizations on static and real-time...   Not Available   \n",
       "9  Engage in data entry.\\nThis is a business proc...   Not Available   \n",
       "\n",
       "                                                link  \n",
       "0  https://www.indeed.co.in/pagead/clk?mo=r&ad=-6...  \n",
       "1  https://www.indeed.co.in/pagead/clk?mo=r&ad=-6...  \n",
       "2  https://www.indeed.co.in/pagead/clk?mo=r&ad=-6...  \n",
       "3  https://www.indeed.co.in/pagead/clk?mo=r&ad=-6...  \n",
       "4  https://www.indeed.co.in/rc/clk?jk=ef5f4b309af...  \n",
       "5  https://www.indeed.co.in/company/Ninestars-Inf...  \n",
       "6  https://www.indeed.co.in/rc/clk?jk=effacadbb8e...  \n",
       "7  https://www.indeed.co.in/company/Segler-Techno...  \n",
       "8  https://www.indeed.co.in/rc/clk?jk=074c50caa30...  \n",
       "9  https://www.indeed.co.in/company/Shortlyst.ai/...  "
      ]
     },
     "execution_count": 51,
     "metadata": {},
     "output_type": "execute_result"
    }
   ],
   "source": [
    "pd.DataFrame(data[1:],columns=data[0])"
   ]
  },
  {
   "cell_type": "code",
   "execution_count": 22,
   "metadata": {},
   "outputs": [],
   "source": [
    "container = wd.find_element_by_id(\"resultsCol\")"
   ]
  },
  {
   "cell_type": "code",
   "execution_count": 25,
   "metadata": {},
   "outputs": [
    {
     "data": {
      "text/plain": [
       "16"
      ]
     },
     "execution_count": 25,
     "metadata": {},
     "output_type": "execute_result"
    }
   ],
   "source": [
    "divs = container.find_elements_by_xpath('div[@class=\"jobsearch-SerpJobCard unifiedRow row result clickcard\"]')\n",
    "len(divs)"
   ]
  },
  {
   "cell_type": "code",
   "execution_count": 34,
   "metadata": {},
   "outputs": [],
   "source": [
    "div = divs[2]"
   ]
  },
  {
   "cell_type": "code",
   "execution_count": 35,
   "metadata": {},
   "outputs": [
    {
     "name": "stdout",
     "output_type": "stream",
     "text": [
      "Junior SaaS Sales Manager - Remote Position https://www.indeed.co.in/pagead/clk?mo=r&ad=-6NYlbfkN0AAN88MX9AoL9ncJEpEtD0Zz0JBZLoGox1b2BDssbm-dg4E0UIyG1W8nVd-2RdKkz442P_M8L0VuBR5r0ab4S2HX8cw2qFiue-BZkwtHjXA80hAaafKv5NBzUz9F4ytCUG8wLDwo9ZuXW83C_8_zIUD80ThKQnLVeyXO1mRmP-5Za0-A4aFVYHvlT4Xs5RvsJyAuB6kFphQXyfwP9e4_GhdoWE1RS_YSWFy4DPCYsxeyHASy6T33SImlAe0pxggPZzR3e1e6dVfIK9S2jgMB8jvNTPfR5dxycV_4NwFmXq0VH94HpXhQkN1Jjd5OS3JIzo7fvyhiowMblwYYI7Y7XuKuJX3obWClPNb9_4TtPD4kZkg7183fF4Aqfqylcv5fArdo41pDscvTHeRdV8dDc6ex1TwtDm90350Nwk3oyrtTB7n2NxqmKtvwOkvmU35vq1yKAxxy340EyIFMq9Zh4aXDxKHUghV1EZeaocI2brbEw==&p=2&fvj=1&vjs=3\n"
     ]
    }
   ],
   "source": [
    "title = div.find_element_by_class_name(\"title\").find_element_by_tag_name(\"a\")\n",
    "name = title.text\n",
    "link = title.get_attribute(\"href\")\n",
    "print(name,link)"
   ]
  },
  {
   "cell_type": "code",
   "execution_count": 44,
   "metadata": {},
   "outputs": [
    {
     "data": {
      "text/plain": [
       "'StartUs Insights'"
      ]
     },
     "execution_count": 44,
     "metadata": {},
     "output_type": "execute_result"
    }
   ],
   "source": [
    "company = div.find_element_by_class_name(\"company\").text\n",
    "company"
   ]
  },
  {
   "cell_type": "code",
   "execution_count": 37,
   "metadata": {},
   "outputs": [
    {
     "data": {
      "text/plain": [
       "'₹45,000 - ₹60,000 a month'"
      ]
     },
     "execution_count": 37,
     "metadata": {},
     "output_type": "execute_result"
    }
   ],
   "source": [
    "sal = div.find_element_by_class_name(\"salaryText\").text\n",
    "sal"
   ]
  },
  {
   "cell_type": "code",
   "execution_count": 38,
   "metadata": {},
   "outputs": [],
   "source": [
    "exp = 'Not Available'"
   ]
  },
  {
   "cell_type": "code",
   "execution_count": 42,
   "metadata": {},
   "outputs": [
    {
     "data": {
      "text/plain": [
       "'Karnataka'"
      ]
     },
     "execution_count": 42,
     "metadata": {},
     "output_type": "execute_result"
    }
   ],
   "source": [
    "location = div.find_element_by_xpath('//div[@class=\"location accessible-contrast-color-location\"]').text\n",
    "location"
   ]
  },
  {
   "cell_type": "code",
   "execution_count": 45,
   "metadata": {},
   "outputs": [
    {
     "data": {
      "text/plain": [
       "'We’re StartUs Insights, an international data science company that analyzes startups and emerging technologies to anticipate future industry trends.'"
      ]
     },
     "execution_count": 45,
     "metadata": {},
     "output_type": "execute_result"
    }
   ],
   "source": [
    "jd = div.find_element_by_class_name(\"summary\").text\n",
    "jd"
   ]
  },
  {
   "cell_type": "code",
   "execution_count": 46,
   "metadata": {},
   "outputs": [],
   "source": [
    "req_skills = 'Not Available'"
   ]
  },
  {
   "cell_type": "code",
   "execution_count": null,
   "metadata": {},
   "outputs": [],
   "source": []
  }
 ],
 "metadata": {
  "kernelspec": {
   "display_name": "Python 3",
   "language": "python",
   "name": "python3"
  },
  "language_info": {
   "codemirror_mode": {
    "name": "ipython",
    "version": 3
   },
   "file_extension": ".py",
   "mimetype": "text/x-python",
   "name": "python",
   "nbconvert_exporter": "python",
   "pygments_lexer": "ipython3",
   "version": "3.7.4"
  }
 },
 "nbformat": 4,
 "nbformat_minor": 2
}
