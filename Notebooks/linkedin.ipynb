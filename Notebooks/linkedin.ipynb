{
 "cells": [
  {
   "cell_type": "code",
   "execution_count": 1,
   "metadata": {},
   "outputs": [],
   "source": [
    "import selenium\n",
    "from selenium import webdriver\n",
    "import pandas as pd"
   ]
  },
  {
   "cell_type": "code",
   "execution_count": 6,
   "metadata": {},
   "outputs": [],
   "source": [
    "DRIVER_PATH = './chromedriver.exe'\n",
    "wd = webdriver.Chrome(executable_path=DRIVER_PATH)\n",
    "url = 'https://www.linkedin.com/jobs/search/?keywords='"
   ]
  },
  {
   "cell_type": "code",
   "execution_count": 7,
   "metadata": {},
   "outputs": [],
   "source": [
    "skill = 'data science'\n",
    "loc = 'bengaluru'\n",
    "exp = '2'"
   ]
  },
  {
   "cell_type": "code",
   "execution_count": 8,
   "metadata": {},
   "outputs": [
    {
     "data": {
      "text/plain": [
       "'https://www.linkedin.com/jobs/search/?keywords=data science&location=bengaluru'"
      ]
     },
     "execution_count": 8,
     "metadata": {},
     "output_type": "execute_result"
    }
   ],
   "source": [
    "url_skill = ' '.join(skill.split())\n",
    "url = url + url_skill + '&location=' + loc\n",
    "url"
   ]
  },
  {
   "cell_type": "code",
   "execution_count": 9,
   "metadata": {},
   "outputs": [],
   "source": [
    "wd.get(url)"
   ]
  },
  {
   "cell_type": "code",
   "execution_count": 21,
   "metadata": {},
   "outputs": [],
   "source": [
    "try:\n",
    "    container = wd.find_element_by_id(\"jobs-search__results-list\")\n",
    "    lst = container.find_elements_by_class_name(\"result-card\")\n",
    "except:\n",
    "    pass\n",
    "data = [['Title','Company','ctc','experience','location','Description','skills_required','link']]\n",
    "i = 0\n",
    "for li in lst:\n",
    "    try:\n",
    "        name = li.find_element_by_class_name(\"result-card__title\").text\n",
    "        link = li.find_element_by_class_name(\"result-card__full-card-link\").get_attribute(\"href\")\n",
    "    except:\n",
    "        continue\n",
    "    exp = 'Not Available'\n",
    "    try:\n",
    "        company = li.find_element_by_class_name(\"result-card__subtitle-link\").text\n",
    "    except:\n",
    "        company = 'Not Available'\n",
    "    try:\n",
    "        loc = li.find_element_by_class_name(\"job-result-card__location\").text\n",
    "    except:\n",
    "        loc = 'Not Available'\n",
    "    try:\n",
    "        jd = li.find_element_by_class_name(\"job-result-card__snippet\").text\n",
    "    except:\n",
    "        jd = 'Not Available'\n",
    "    req_skills = 'Not Available'\n",
    "    sal = 'Not Available'\n",
    "    data.append([name,company,sal,exp,loc,jd,req_skills,link])\n",
    "    i+=1\n",
    "    if i==10:\n",
    "        break"
   ]
  },
  {
   "cell_type": "code",
   "execution_count": 22,
   "metadata": {},
   "outputs": [
    {
     "data": {
      "text/html": [
       "<div>\n",
       "<style scoped>\n",
       "    .dataframe tbody tr th:only-of-type {\n",
       "        vertical-align: middle;\n",
       "    }\n",
       "\n",
       "    .dataframe tbody tr th {\n",
       "        vertical-align: top;\n",
       "    }\n",
       "\n",
       "    .dataframe thead th {\n",
       "        text-align: right;\n",
       "    }\n",
       "</style>\n",
       "<table border=\"1\" class=\"dataframe\">\n",
       "  <thead>\n",
       "    <tr style=\"text-align: right;\">\n",
       "      <th></th>\n",
       "      <th>Title</th>\n",
       "      <th>Company</th>\n",
       "      <th>ctc</th>\n",
       "      <th>experience</th>\n",
       "      <th>location</th>\n",
       "      <th>Description</th>\n",
       "      <th>skills_required</th>\n",
       "      <th>link</th>\n",
       "    </tr>\n",
       "  </thead>\n",
       "  <tbody>\n",
       "    <tr>\n",
       "      <td>0</td>\n",
       "      <td>Associate - Analytics &amp; Business Insights</td>\n",
       "      <td>Myntra</td>\n",
       "      <td>Not Available</td>\n",
       "      <td>Not Available</td>\n",
       "      <td>Bengaluru, Karnataka, India</td>\n",
       "      <td>Strong analytical skills with the ability to c...</td>\n",
       "      <td>Not Available</td>\n",
       "      <td>https://in.linkedin.com/jobs/view/associate-an...</td>\n",
       "    </tr>\n",
       "    <tr>\n",
       "      <td>1</td>\n",
       "      <td>Data Scientist</td>\n",
       "      <td>MakeMyTrip</td>\n",
       "      <td>Not Available</td>\n",
       "      <td>Not Available</td>\n",
       "      <td>Bengaluru, Karnataka, India</td>\n",
       "      <td>Build mathematical models to be deployed in th...</td>\n",
       "      <td>Not Available</td>\n",
       "      <td>https://in.linkedin.com/jobs/view/data-scienti...</td>\n",
       "    </tr>\n",
       "    <tr>\n",
       "      <td>2</td>\n",
       "      <td>Data Analyst</td>\n",
       "      <td>Walmart Labs India</td>\n",
       "      <td>Not Available</td>\n",
       "      <td>Not Available</td>\n",
       "      <td>Anekal, Karnataka, India</td>\n",
       "      <td>Walmart is looking for self motivated Data Ana...</td>\n",
       "      <td>Not Available</td>\n",
       "      <td>https://in.linkedin.com/jobs/view/data-analyst...</td>\n",
       "    </tr>\n",
       "    <tr>\n",
       "      <td>3</td>\n",
       "      <td>Data Scientist Intern</td>\n",
       "      <td>Amazon</td>\n",
       "      <td>Not Available</td>\n",
       "      <td>Not Available</td>\n",
       "      <td>Bengaluru, Karnataka, India</td>\n",
       "      <td>Amazon's looking for Data Scientist to optimiz...</td>\n",
       "      <td>Not Available</td>\n",
       "      <td>https://in.linkedin.com/jobs/view/data-scienti...</td>\n",
       "    </tr>\n",
       "    <tr>\n",
       "      <td>4</td>\n",
       "      <td>DATA SCIENTIST</td>\n",
       "      <td>IBM India Private Limited</td>\n",
       "      <td>Not Available</td>\n",
       "      <td>Not Available</td>\n",
       "      <td>Bengaluru, Karnataka, India</td>\n",
       "      <td>What about all of these? You will bring deep e...</td>\n",
       "      <td>Not Available</td>\n",
       "      <td>https://in.linkedin.com/jobs/view/data-scienti...</td>\n",
       "    </tr>\n",
       "    <tr>\n",
       "      <td>5</td>\n",
       "      <td>Data Scientist</td>\n",
       "      <td>IBM</td>\n",
       "      <td>Not Available</td>\n",
       "      <td>Not Available</td>\n",
       "      <td>Bengaluru, Karnataka, India</td>\n",
       "      <td>What about all of these? Are you looking for a...</td>\n",
       "      <td>Not Available</td>\n",
       "      <td>https://in.linkedin.com/jobs/view/data-scienti...</td>\n",
       "    </tr>\n",
       "    <tr>\n",
       "      <td>6</td>\n",
       "      <td>Data Visualization Associate</td>\n",
       "      <td>J.P. Morgan</td>\n",
       "      <td>Not Available</td>\n",
       "      <td>Not Available</td>\n",
       "      <td>Bengaluru, Karnataka, India</td>\n",
       "      <td>6+ years proven experience in IT development /...</td>\n",
       "      <td>Not Available</td>\n",
       "      <td>https://in.linkedin.com/jobs/view/data-visuali...</td>\n",
       "    </tr>\n",
       "    <tr>\n",
       "      <td>7</td>\n",
       "      <td>Data Scientist</td>\n",
       "      <td>PayPal</td>\n",
       "      <td>Not Available</td>\n",
       "      <td>Not Available</td>\n",
       "      <td>Bengaluru, Karnataka, India</td>\n",
       "      <td>You grow comfortable with ambiguity, fueled by...</td>\n",
       "      <td>Not Available</td>\n",
       "      <td>https://in.linkedin.com/jobs/view/data-scienti...</td>\n",
       "    </tr>\n",
       "    <tr>\n",
       "      <td>8</td>\n",
       "      <td>Research Scientist, Google Research</td>\n",
       "      <td>Google</td>\n",
       "      <td>Not Available</td>\n",
       "      <td>Not Available</td>\n",
       "      <td>Bengaluru, Karnataka, India</td>\n",
       "      <td>Our mission at Google Research India is to con...</td>\n",
       "      <td>Not Available</td>\n",
       "      <td>https://in.linkedin.com/jobs/view/research-sci...</td>\n",
       "    </tr>\n",
       "    <tr>\n",
       "      <td>9</td>\n",
       "      <td>Cslt-Data Analytics</td>\n",
       "      <td>Verizon Data Services</td>\n",
       "      <td>Not Available</td>\n",
       "      <td>Not Available</td>\n",
       "      <td>Bengaluru, Karnataka, India</td>\n",
       "      <td>The ideal candidate is an experienced data pip...</td>\n",
       "      <td>Not Available</td>\n",
       "      <td>https://in.linkedin.com/jobs/view/cslt-data-an...</td>\n",
       "    </tr>\n",
       "  </tbody>\n",
       "</table>\n",
       "</div>"
      ],
      "text/plain": [
       "                                       Title                    Company  \\\n",
       "0  Associate - Analytics & Business Insights                     Myntra   \n",
       "1                             Data Scientist                 MakeMyTrip   \n",
       "2                               Data Analyst         Walmart Labs India   \n",
       "3                      Data Scientist Intern                     Amazon   \n",
       "4                             DATA SCIENTIST  IBM India Private Limited   \n",
       "5                             Data Scientist                        IBM   \n",
       "6               Data Visualization Associate                J.P. Morgan   \n",
       "7                             Data Scientist                     PayPal   \n",
       "8        Research Scientist, Google Research                     Google   \n",
       "9                        Cslt-Data Analytics      Verizon Data Services   \n",
       "\n",
       "             ctc     experience                     location  \\\n",
       "0  Not Available  Not Available  Bengaluru, Karnataka, India   \n",
       "1  Not Available  Not Available  Bengaluru, Karnataka, India   \n",
       "2  Not Available  Not Available     Anekal, Karnataka, India   \n",
       "3  Not Available  Not Available  Bengaluru, Karnataka, India   \n",
       "4  Not Available  Not Available  Bengaluru, Karnataka, India   \n",
       "5  Not Available  Not Available  Bengaluru, Karnataka, India   \n",
       "6  Not Available  Not Available  Bengaluru, Karnataka, India   \n",
       "7  Not Available  Not Available  Bengaluru, Karnataka, India   \n",
       "8  Not Available  Not Available  Bengaluru, Karnataka, India   \n",
       "9  Not Available  Not Available  Bengaluru, Karnataka, India   \n",
       "\n",
       "                                         Description skills_required  \\\n",
       "0  Strong analytical skills with the ability to c...   Not Available   \n",
       "1  Build mathematical models to be deployed in th...   Not Available   \n",
       "2  Walmart is looking for self motivated Data Ana...   Not Available   \n",
       "3  Amazon's looking for Data Scientist to optimiz...   Not Available   \n",
       "4  What about all of these? You will bring deep e...   Not Available   \n",
       "5  What about all of these? Are you looking for a...   Not Available   \n",
       "6  6+ years proven experience in IT development /...   Not Available   \n",
       "7  You grow comfortable with ambiguity, fueled by...   Not Available   \n",
       "8  Our mission at Google Research India is to con...   Not Available   \n",
       "9  The ideal candidate is an experienced data pip...   Not Available   \n",
       "\n",
       "                                                link  \n",
       "0  https://in.linkedin.com/jobs/view/associate-an...  \n",
       "1  https://in.linkedin.com/jobs/view/data-scienti...  \n",
       "2  https://in.linkedin.com/jobs/view/data-analyst...  \n",
       "3  https://in.linkedin.com/jobs/view/data-scienti...  \n",
       "4  https://in.linkedin.com/jobs/view/data-scienti...  \n",
       "5  https://in.linkedin.com/jobs/view/data-scienti...  \n",
       "6  https://in.linkedin.com/jobs/view/data-visuali...  \n",
       "7  https://in.linkedin.com/jobs/view/data-scienti...  \n",
       "8  https://in.linkedin.com/jobs/view/research-sci...  \n",
       "9  https://in.linkedin.com/jobs/view/cslt-data-an...  "
      ]
     },
     "execution_count": 22,
     "metadata": {},
     "output_type": "execute_result"
    }
   ],
   "source": [
    "pd.DataFrame(data[1:],columns=data[0])"
   ]
  },
  {
   "cell_type": "code",
   "execution_count": 11,
   "metadata": {},
   "outputs": [
    {
     "data": {
      "text/plain": [
       "'Associate - Analytics & Business Insights\\nMyntra\\nBengaluru, Karnataka, India\\nStrong analytical skills with the ability to collect, organize, analyse, and disseminate significant amounts of information with ...\\n1 week ago'"
      ]
     },
     "execution_count": 11,
     "metadata": {},
     "output_type": "execute_result"
    }
   ],
   "source": [
    "container = wd.find_element_by_class_name(\"jobs-search__results-list\")\n",
    "lst = container.find_elements_by_class_name(\"result-card\")\n",
    "li = lst[0]\n",
    "li.text"
   ]
  },
  {
   "cell_type": "code",
   "execution_count": 18,
   "metadata": {},
   "outputs": [
    {
     "name": "stdout",
     "output_type": "stream",
     "text": [
      "Associate - Analytics & Business Insights https://in.linkedin.com/jobs/view/associate-analytics-business-insights-at-myntra-1812532093?refId=f30413b4-2634-4c6d-bd2a-fef0a4a4b465&position=1&pageNum=0&trk=public_jobs_job-result-card_result-card_full-click\n"
     ]
    }
   ],
   "source": [
    "name = li.find_element_by_class_name(\"result-card__title\").text\n",
    "link = li.find_element_by_class_name(\"result-card__full-card-link\").get_attribute(\"href\")\n",
    "print(name,link)"
   ]
  },
  {
   "cell_type": "code",
   "execution_count": 15,
   "metadata": {},
   "outputs": [
    {
     "data": {
      "text/plain": [
       "'Myntra'"
      ]
     },
     "execution_count": 15,
     "metadata": {},
     "output_type": "execute_result"
    }
   ],
   "source": [
    "company = li.find_element_by_class_name(\"result-card__subtitle-link\").text\n",
    "company"
   ]
  },
  {
   "cell_type": "code",
   "execution_count": 16,
   "metadata": {},
   "outputs": [
    {
     "data": {
      "text/plain": [
       "'Bengaluru, Karnataka, India'"
      ]
     },
     "execution_count": 16,
     "metadata": {},
     "output_type": "execute_result"
    }
   ],
   "source": [
    "loc = li.find_element_by_class_name(\"job-result-card__location\").text\n",
    "loc"
   ]
  },
  {
   "cell_type": "code",
   "execution_count": 17,
   "metadata": {},
   "outputs": [
    {
     "data": {
      "text/plain": [
       "'Strong analytical skills with the ability to collect, organize, analyse, and disseminate significant amounts of information with ...'"
      ]
     },
     "execution_count": 17,
     "metadata": {},
     "output_type": "execute_result"
    }
   ],
   "source": [
    "jd = li.find_element_by_class_name(\"job-result-card__snippet\").text\n",
    "jd"
   ]
  },
  {
   "cell_type": "code",
   "execution_count": null,
   "metadata": {},
   "outputs": [],
   "source": []
  }
 ],
 "metadata": {
  "kernelspec": {
   "display_name": "Python 3",
   "language": "python",
   "name": "python3"
  },
  "language_info": {
   "codemirror_mode": {
    "name": "ipython",
    "version": 3
   },
   "file_extension": ".py",
   "mimetype": "text/x-python",
   "name": "python",
   "nbconvert_exporter": "python",
   "pygments_lexer": "ipython3",
   "version": "3.7.4"
  }
 },
 "nbformat": 4,
 "nbformat_minor": 2
}
