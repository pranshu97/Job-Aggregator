{
 "cells": [
  {
   "cell_type": "code",
   "execution_count": 1,
   "metadata": {},
   "outputs": [],
   "source": [
    "import selenium\n",
    "from selenium import webdriver\n",
    "import pandas as pd"
   ]
  },
  {
   "cell_type": "code",
   "execution_count": 49,
   "metadata": {},
   "outputs": [],
   "source": [
    "DRIVER_PATH = './chromedriver.exe'\n",
    "wd = webdriver.Chrome(executable_path=DRIVER_PATH)\n",
    "url = 'https://www.naukri.com/'"
   ]
  },
  {
   "cell_type": "code",
   "execution_count": 50,
   "metadata": {},
   "outputs": [],
   "source": [
    "skill = 'data science'\n",
    "loc = 'bangalore'\n",
    "exp = 0"
   ]
  },
  {
   "cell_type": "code",
   "execution_count": 51,
   "metadata": {},
   "outputs": [],
   "source": [
    "url_skill = '-'.join(skill.split())"
   ]
  },
  {
   "cell_type": "code",
   "execution_count": 52,
   "metadata": {},
   "outputs": [
    {
     "data": {
      "text/plain": [
       "'https://www.naukri.com/data-science-jobs-in-bangalore?experience=0'"
      ]
     },
     "execution_count": 52,
     "metadata": {},
     "output_type": "execute_result"
    }
   ],
   "source": [
    "url = url + url_skill + '-jobs-in-' + loc + '?experience=' + str(exp)\n",
    "url"
   ]
  },
  {
   "cell_type": "code",
   "execution_count": 53,
   "metadata": {},
   "outputs": [],
   "source": [
    "wd.get(url)"
   ]
  },
  {
   "cell_type": "code",
   "execution_count": 40,
   "metadata": {},
   "outputs": [],
   "source": [
    "try:\n",
    "    div = wd.find_element_by_class_name(\"list\")\n",
    "    article = div.find_elements_by_tag_name(\"article\")\n",
    "except:\n",
    "    pass\n",
    "# article = article[:3]#REMOVE THIS LINE\n",
    "data = [['Title','Company','ctc','experience','location','Description','skills_required','link']]\n",
    "for art in article:\n",
    "    try:\n",
    "        a = art.find_elements_by_tag_name(\"a\")\n",
    "        name = a[0].text\n",
    "        link = a[0].get_attribute(\"href\")\n",
    "        company = a[1].text\n",
    "    except:\n",
    "        continue\n",
    "    try:\n",
    "        ul = art.find_elements_by_tag_name(\"ul\")\n",
    "        li = ul[0].find_elements_by_tag_name(\"li\")\n",
    "        try:\n",
    "            experience = li[0].text\n",
    "        except:\n",
    "            experience = \"Not Available\"\n",
    "        try:\n",
    "            ctc = li[1].text\n",
    "        except:\n",
    "            ctc = \"Not Available\"\n",
    "        try:\n",
    "            location = li[2].text\n",
    "        except:\n",
    "            location = loc\n",
    "        try:\n",
    "            lst = [i for i in ul[1].text.split('\\n')]\n",
    "            req_skills = ' '.join(lst)\n",
    "        except:\n",
    "            req_skills = \"Not Available\"\n",
    "    except:\n",
    "        continue\n",
    "    try:\n",
    "        div = art.find_elements_by_tag_name(\"div\")\n",
    "        jd = div[3].text\n",
    "    except:\n",
    "        jd = \"Not Available\"\n",
    "    data.append([name,company,ctc,experience,location,jd,req_skills,link])\n",
    "#     except:\n",
    "#         pass\n",
    "    "
   ]
  },
  {
   "cell_type": "code",
   "execution_count": 41,
   "metadata": {},
   "outputs": [
    {
     "data": {
      "text/plain": [
       "20"
      ]
     },
     "execution_count": 41,
     "metadata": {},
     "output_type": "execute_result"
    }
   ],
   "source": [
    "len(article)"
   ]
  },
  {
   "cell_type": "code",
   "execution_count": 42,
   "metadata": {},
   "outputs": [
    {
     "data": {
      "text/html": [
       "<div>\n",
       "<style scoped>\n",
       "    .dataframe tbody tr th:only-of-type {\n",
       "        vertical-align: middle;\n",
       "    }\n",
       "\n",
       "    .dataframe tbody tr th {\n",
       "        vertical-align: top;\n",
       "    }\n",
       "\n",
       "    .dataframe thead th {\n",
       "        text-align: right;\n",
       "    }\n",
       "</style>\n",
       "<table border=\"1\" class=\"dataframe\">\n",
       "  <thead>\n",
       "    <tr style=\"text-align: right;\">\n",
       "      <th></th>\n",
       "      <th>Title</th>\n",
       "      <th>Company</th>\n",
       "      <th>ctc</th>\n",
       "      <th>experience</th>\n",
       "      <th>location</th>\n",
       "      <th>Description</th>\n",
       "      <th>skills_required</th>\n",
       "      <th>link</th>\n",
       "    </tr>\n",
       "  </thead>\n",
       "  <tbody>\n",
       "    <tr>\n",
       "      <td>0</td>\n",
       "      <td>Junior Data Scientist</td>\n",
       "      <td>Snaphunt</td>\n",
       "      <td>Not disclosed</td>\n",
       "      <td>1-2 Yrs</td>\n",
       "      <td>Bengaluru</td>\n",
       "      <td></td>\n",
       "      <td>Data Science Predictive Modeling R Algorithms ...</td>\n",
       "      <td>https://www.naukri.com/job-listings-junior-dat...</td>\n",
       "    </tr>\n",
       "    <tr>\n",
       "      <td>1</td>\n",
       "      <td>Data Science Interns</td>\n",
       "      <td>Mahindra TeQO Pvt Ltd</td>\n",
       "      <td>Not disclosed</td>\n",
       "      <td>0-1 Yrs</td>\n",
       "      <td>Bengaluru(Bellandur)</td>\n",
       "      <td></td>\n",
       "      <td>Predictive Modeling data science data mining m...</td>\n",
       "      <td>https://www.naukri.com/job-listings-data-scien...</td>\n",
       "    </tr>\n",
       "    <tr>\n",
       "      <td>2</td>\n",
       "      <td>Lead Data Scientist</td>\n",
       "      <td>Snaphunt</td>\n",
       "      <td>Not disclosed</td>\n",
       "      <td>1-6 Yrs</td>\n",
       "      <td>Bengaluru</td>\n",
       "      <td></td>\n",
       "      <td>Data Science Pyspark R Artificial Intelligence...</td>\n",
       "      <td>https://www.naukri.com/job-listings-lead-data-...</td>\n",
       "    </tr>\n",
       "    <tr>\n",
       "      <td>3</td>\n",
       "      <td>Data Scientist</td>\n",
       "      <td>Similarityx solutions private limited</td>\n",
       "      <td>2,25,000 - 3,00,000 PA.</td>\n",
       "      <td>0-2 Yrs</td>\n",
       "      <td>Chennai, Bengaluru, Hyderabad</td>\n",
       "      <td>1.Translate business problems into analytical ...</td>\n",
       "      <td>Data Science tableau oracle Data Scientist had...</td>\n",
       "      <td>https://www.naukri.com/job-listings-data-scien...</td>\n",
       "    </tr>\n",
       "    <tr>\n",
       "      <td>4</td>\n",
       "      <td>Data Scientist / Text Analytics / NLP Specialist</td>\n",
       "      <td>Datamatics Global services Ltd.</td>\n",
       "      <td>Not disclosed</td>\n",
       "      <td>1-4 Yrs</td>\n",
       "      <td>Bengaluru(Bellandur)</td>\n",
       "      <td></td>\n",
       "      <td>Data Science NLP Text Analytics Text Mining De...</td>\n",
       "      <td>https://www.naukri.com/job-listings-data-scien...</td>\n",
       "    </tr>\n",
       "    <tr>\n",
       "      <td>5</td>\n",
       "      <td>Data Scientist -Intern</td>\n",
       "      <td>zBliss Technologies Pvt Ltd</td>\n",
       "      <td>1,75,000 - 2,25,000 PA.</td>\n",
       "      <td>0-1 Yrs</td>\n",
       "      <td>Chennai(Taramani), Bengaluru(Electronic City +1)</td>\n",
       "      <td>Internship Cohort Team Size : 3Apply only if y...</td>\n",
       "      <td>tensorflow python data analysis data science k...</td>\n",
       "      <td>https://www.naukri.com/job-listings-data-scien...</td>\n",
       "    </tr>\n",
       "    <tr>\n",
       "      <td>6</td>\n",
       "      <td>Trainee Data Scientist- RK</td>\n",
       "      <td>MNC AI DS</td>\n",
       "      <td>6,00,000 - 14,00,000 PA.</td>\n",
       "      <td>0-5 Yrs</td>\n",
       "      <td>Guntur, Bengaluru, Hyderabad</td>\n",
       "      <td>We are looking out for Freshers/ Entry level p...</td>\n",
       "      <td>data science Artificial Intelligence Machine L...</td>\n",
       "      <td>https://www.naukri.com/job-listings-trainee-da...</td>\n",
       "    </tr>\n",
       "    <tr>\n",
       "      <td>7</td>\n",
       "      <td>Data Scientist</td>\n",
       "      <td>AXCESS CONSULTANCY SERVICES</td>\n",
       "      <td>Not disclosed</td>\n",
       "      <td>0-5 Yrs</td>\n",
       "      <td>Bengaluru</td>\n",
       "      <td>Coordinate with faculty to create best in clas...</td>\n",
       "      <td>data cleansing Automation Data analysis data s...</td>\n",
       "      <td>https://www.naukri.com/job-listings-data-scien...</td>\n",
       "    </tr>\n",
       "    <tr>\n",
       "      <td>8</td>\n",
       "      <td>Trainee Data Scientist- SM</td>\n",
       "      <td>MNC AI DS</td>\n",
       "      <td>6,00,000 - 14,00,000 PA.</td>\n",
       "      <td>0-5 Yrs</td>\n",
       "      <td>Chennai, Pune, Bengaluru</td>\n",
       "      <td>We are looking out for Freshers/ Entry level p...</td>\n",
       "      <td>data science Artificial Intelligence Machine L...</td>\n",
       "      <td>https://www.naukri.com/job-listings-trainee-da...</td>\n",
       "    </tr>\n",
       "    <tr>\n",
       "      <td>9</td>\n",
       "      <td>Data Analyst</td>\n",
       "      <td>Manipal Technologies Limited</td>\n",
       "      <td>2,50,000 - 6,00,000 PA.</td>\n",
       "      <td>1-5 Yrs</td>\n",
       "      <td>Bengaluru</td>\n",
       "      <td></td>\n",
       "      <td>Data Science R Data Analysis Data Mining Data ...</td>\n",
       "      <td>https://www.naukri.com/job-listings-data-analy...</td>\n",
       "    </tr>\n",
       "    <tr>\n",
       "      <td>10</td>\n",
       "      <td>Accenture is Hiring For Data Science-bangalore...</td>\n",
       "      <td>Accenture Solutions Pvt Ltd</td>\n",
       "      <td>Not disclosed</td>\n",
       "      <td>1-6 Yrs</td>\n",
       "      <td>Delhi NCR, Mumbai, Bengaluru</td>\n",
       "      <td></td>\n",
       "      <td>Predictive Modeling cluster sas Regression tim...</td>\n",
       "      <td>https://www.naukri.com/job-listings-accenture-...</td>\n",
       "    </tr>\n",
       "    <tr>\n",
       "      <td>11</td>\n",
       "      <td>Statistics Freshers For Data Science Team</td>\n",
       "      <td>GAMAKA AI SOLUTIONS</td>\n",
       "      <td>5,50,000 - 15,50,000 PA.</td>\n",
       "      <td>0-5 Yrs</td>\n",
       "      <td>Chennai, Pune, Delhi NCR, Mumbai, Bengaluru, H...</td>\n",
       "      <td>Should posses good problem-solving skills. Exp...</td>\n",
       "      <td>Data Science analytics data analytics sas data...</td>\n",
       "      <td>https://www.naukri.com/job-listings-statistics...</td>\n",
       "    </tr>\n",
       "    <tr>\n",
       "      <td>12</td>\n",
       "      <td>Senior Analyst - Sql/sas/ Python/ Machine Lear...</td>\n",
       "      <td>Huquo Consulting Pvt. Ltd</td>\n",
       "      <td>Not disclosed</td>\n",
       "      <td>1-4 Yrs</td>\n",
       "      <td>Bengaluru</td>\n",
       "      <td>Bachelors degree in Computer Science, Math, Fi...</td>\n",
       "      <td>Data Science SAS Data Scientist Data Analytics...</td>\n",
       "      <td>https://www.naukri.com/job-listings-senior-ana...</td>\n",
       "    </tr>\n",
       "    <tr>\n",
       "      <td>13</td>\n",
       "      <td>Intern / Remote / Part Time Software Developer</td>\n",
       "      <td>Digital Spirit</td>\n",
       "      <td>Not disclosed</td>\n",
       "      <td>0-5 Yrs</td>\n",
       "      <td>Indore, Bengaluru</td>\n",
       "      <td>Dear Candidate, We are looking for Intern / Re...</td>\n",
       "      <td>C# it development Big Data Part Time Laravel M...</td>\n",
       "      <td>https://www.naukri.com/job-listings-intern-rem...</td>\n",
       "    </tr>\n",
       "    <tr>\n",
       "      <td>14</td>\n",
       "      <td>Jr.Frontend Engineer</td>\n",
       "      <td>Mate Labs</td>\n",
       "      <td>Not disclosed</td>\n",
       "      <td>1-3 Yrs</td>\n",
       "      <td>Bengaluru</td>\n",
       "      <td>Skills Required: 1 - 3 Years of Experience Rea...</td>\n",
       "      <td>Health insurance github jQuery data science Ar...</td>\n",
       "      <td>https://www.naukri.com/job-listings-jr-fronten...</td>\n",
       "    </tr>\n",
       "    <tr>\n",
       "      <td>15</td>\n",
       "      <td>Technical Trainers</td>\n",
       "      <td>Rooman</td>\n",
       "      <td>Not disclosed</td>\n",
       "      <td>0-3 Yrs</td>\n",
       "      <td>Bengaluru</td>\n",
       "      <td>Job Requirements: A passion for learning, teac...</td>\n",
       "      <td>Computer science Technical training Cloud comp...</td>\n",
       "      <td>https://www.naukri.com/job-listings-technical-...</td>\n",
       "    </tr>\n",
       "    <tr>\n",
       "      <td>16</td>\n",
       "      <td>Data Science</td>\n",
       "      <td>Capgemini Technology Services India Limited</td>\n",
       "      <td>Not disclosed</td>\n",
       "      <td>1-2 Yrs</td>\n",
       "      <td>Bengaluru</td>\n",
       "      <td></td>\n",
       "      <td>Logistic regression data science Analytical Co...</td>\n",
       "      <td>https://www.naukri.com/job-listings-data-scien...</td>\n",
       "    </tr>\n",
       "    <tr>\n",
       "      <td>17</td>\n",
       "      <td>Data Science Associate - Auto Finance</td>\n",
       "      <td>JP Morgan Chase</td>\n",
       "      <td>Not disclosed</td>\n",
       "      <td>0-5 Yrs</td>\n",
       "      <td>Bengaluru, Bangalore East</td>\n",
       "      <td></td>\n",
       "      <td>operations technology human resources finance</td>\n",
       "      <td>https://www.naukri.com/job-listings-data-scien...</td>\n",
       "    </tr>\n",
       "    <tr>\n",
       "      <td>18</td>\n",
       "      <td>Junior Digital Content Specialist</td>\n",
       "      <td>Kaplan Test Prep</td>\n",
       "      <td>Not disclosed</td>\n",
       "      <td>0-3 Yrs</td>\n",
       "      <td>Bengaluru</td>\n",
       "      <td>Job Description Job Impact and Scope Summary T...</td>\n",
       "      <td>Content management Manager Quality Assurance P...</td>\n",
       "      <td>https://www.naukri.com/job-listings-junior-dig...</td>\n",
       "    </tr>\n",
       "    <tr>\n",
       "      <td>19</td>\n",
       "      <td>Junior Digital Content Specialist</td>\n",
       "      <td>Kaplan Test Prep</td>\n",
       "      <td>Not disclosed</td>\n",
       "      <td>0-3 Yrs</td>\n",
       "      <td>Bengaluru</td>\n",
       "      <td>Job Description Job Impact and Scope Summary T...</td>\n",
       "      <td>Content management Manager Quality Assurance P...</td>\n",
       "      <td>https://www.naukri.com/job-listings-junior-dig...</td>\n",
       "    </tr>\n",
       "  </tbody>\n",
       "</table>\n",
       "</div>"
      ],
      "text/plain": [
       "                                                Title  \\\n",
       "0                               Junior Data Scientist   \n",
       "1                                Data Science Interns   \n",
       "2                                 Lead Data Scientist   \n",
       "3                                      Data Scientist   \n",
       "4    Data Scientist / Text Analytics / NLP Specialist   \n",
       "5                              Data Scientist -Intern   \n",
       "6                          Trainee Data Scientist- RK   \n",
       "7                                      Data Scientist   \n",
       "8                          Trainee Data Scientist- SM   \n",
       "9                                        Data Analyst   \n",
       "10  Accenture is Hiring For Data Science-bangalore...   \n",
       "11          Statistics Freshers For Data Science Team   \n",
       "12  Senior Analyst - Sql/sas/ Python/ Machine Lear...   \n",
       "13     Intern / Remote / Part Time Software Developer   \n",
       "14                               Jr.Frontend Engineer   \n",
       "15                                 Technical Trainers   \n",
       "16                                       Data Science   \n",
       "17              Data Science Associate - Auto Finance   \n",
       "18                  Junior Digital Content Specialist   \n",
       "19                  Junior Digital Content Specialist   \n",
       "\n",
       "                                        Company                       ctc  \\\n",
       "0                                      Snaphunt             Not disclosed   \n",
       "1                         Mahindra TeQO Pvt Ltd             Not disclosed   \n",
       "2                                      Snaphunt             Not disclosed   \n",
       "3         Similarityx solutions private limited   2,25,000 - 3,00,000 PA.   \n",
       "4               Datamatics Global services Ltd.             Not disclosed   \n",
       "5                   zBliss Technologies Pvt Ltd   1,75,000 - 2,25,000 PA.   \n",
       "6                                     MNC AI DS  6,00,000 - 14,00,000 PA.   \n",
       "7                   AXCESS CONSULTANCY SERVICES             Not disclosed   \n",
       "8                                     MNC AI DS  6,00,000 - 14,00,000 PA.   \n",
       "9                  Manipal Technologies Limited   2,50,000 - 6,00,000 PA.   \n",
       "10                  Accenture Solutions Pvt Ltd             Not disclosed   \n",
       "11                          GAMAKA AI SOLUTIONS  5,50,000 - 15,50,000 PA.   \n",
       "12                    Huquo Consulting Pvt. Ltd             Not disclosed   \n",
       "13                               Digital Spirit             Not disclosed   \n",
       "14                                    Mate Labs             Not disclosed   \n",
       "15                                       Rooman             Not disclosed   \n",
       "16  Capgemini Technology Services India Limited             Not disclosed   \n",
       "17                              JP Morgan Chase             Not disclosed   \n",
       "18                             Kaplan Test Prep             Not disclosed   \n",
       "19                             Kaplan Test Prep             Not disclosed   \n",
       "\n",
       "   experience                                           location  \\\n",
       "0     1-2 Yrs                                          Bengaluru   \n",
       "1     0-1 Yrs                               Bengaluru(Bellandur)   \n",
       "2     1-6 Yrs                                          Bengaluru   \n",
       "3     0-2 Yrs                      Chennai, Bengaluru, Hyderabad   \n",
       "4     1-4 Yrs                               Bengaluru(Bellandur)   \n",
       "5     0-1 Yrs   Chennai(Taramani), Bengaluru(Electronic City +1)   \n",
       "6     0-5 Yrs                       Guntur, Bengaluru, Hyderabad   \n",
       "7     0-5 Yrs                                          Bengaluru   \n",
       "8     0-5 Yrs                           Chennai, Pune, Bengaluru   \n",
       "9     1-5 Yrs                                          Bengaluru   \n",
       "10    1-6 Yrs                       Delhi NCR, Mumbai, Bengaluru   \n",
       "11    0-5 Yrs  Chennai, Pune, Delhi NCR, Mumbai, Bengaluru, H...   \n",
       "12    1-4 Yrs                                          Bengaluru   \n",
       "13    0-5 Yrs                                  Indore, Bengaluru   \n",
       "14    1-3 Yrs                                          Bengaluru   \n",
       "15    0-3 Yrs                                          Bengaluru   \n",
       "16    1-2 Yrs                                          Bengaluru   \n",
       "17    0-5 Yrs                          Bengaluru, Bangalore East   \n",
       "18    0-3 Yrs                                          Bengaluru   \n",
       "19    0-3 Yrs                                          Bengaluru   \n",
       "\n",
       "                                          Description  \\\n",
       "0                                                       \n",
       "1                                                       \n",
       "2                                                       \n",
       "3   1.Translate business problems into analytical ...   \n",
       "4                                                       \n",
       "5   Internship Cohort Team Size : 3Apply only if y...   \n",
       "6   We are looking out for Freshers/ Entry level p...   \n",
       "7   Coordinate with faculty to create best in clas...   \n",
       "8   We are looking out for Freshers/ Entry level p...   \n",
       "9                                                       \n",
       "10                                                      \n",
       "11  Should posses good problem-solving skills. Exp...   \n",
       "12  Bachelors degree in Computer Science, Math, Fi...   \n",
       "13  Dear Candidate, We are looking for Intern / Re...   \n",
       "14  Skills Required: 1 - 3 Years of Experience Rea...   \n",
       "15  Job Requirements: A passion for learning, teac...   \n",
       "16                                                      \n",
       "17                                                      \n",
       "18  Job Description Job Impact and Scope Summary T...   \n",
       "19  Job Description Job Impact and Scope Summary T...   \n",
       "\n",
       "                                      skills_required  \\\n",
       "0   Data Science Predictive Modeling R Algorithms ...   \n",
       "1   Predictive Modeling data science data mining m...   \n",
       "2   Data Science Pyspark R Artificial Intelligence...   \n",
       "3   Data Science tableau oracle Data Scientist had...   \n",
       "4   Data Science NLP Text Analytics Text Mining De...   \n",
       "5   tensorflow python data analysis data science k...   \n",
       "6   data science Artificial Intelligence Machine L...   \n",
       "7   data cleansing Automation Data analysis data s...   \n",
       "8   data science Artificial Intelligence Machine L...   \n",
       "9   Data Science R Data Analysis Data Mining Data ...   \n",
       "10  Predictive Modeling cluster sas Regression tim...   \n",
       "11  Data Science analytics data analytics sas data...   \n",
       "12  Data Science SAS Data Scientist Data Analytics...   \n",
       "13  C# it development Big Data Part Time Laravel M...   \n",
       "14  Health insurance github jQuery data science Ar...   \n",
       "15  Computer science Technical training Cloud comp...   \n",
       "16  Logistic regression data science Analytical Co...   \n",
       "17      operations technology human resources finance   \n",
       "18  Content management Manager Quality Assurance P...   \n",
       "19  Content management Manager Quality Assurance P...   \n",
       "\n",
       "                                                 link  \n",
       "0   https://www.naukri.com/job-listings-junior-dat...  \n",
       "1   https://www.naukri.com/job-listings-data-scien...  \n",
       "2   https://www.naukri.com/job-listings-lead-data-...  \n",
       "3   https://www.naukri.com/job-listings-data-scien...  \n",
       "4   https://www.naukri.com/job-listings-data-scien...  \n",
       "5   https://www.naukri.com/job-listings-data-scien...  \n",
       "6   https://www.naukri.com/job-listings-trainee-da...  \n",
       "7   https://www.naukri.com/job-listings-data-scien...  \n",
       "8   https://www.naukri.com/job-listings-trainee-da...  \n",
       "9   https://www.naukri.com/job-listings-data-analy...  \n",
       "10  https://www.naukri.com/job-listings-accenture-...  \n",
       "11  https://www.naukri.com/job-listings-statistics...  \n",
       "12  https://www.naukri.com/job-listings-senior-ana...  \n",
       "13  https://www.naukri.com/job-listings-intern-rem...  \n",
       "14  https://www.naukri.com/job-listings-jr-fronten...  \n",
       "15  https://www.naukri.com/job-listings-technical-...  \n",
       "16  https://www.naukri.com/job-listings-data-scien...  \n",
       "17  https://www.naukri.com/job-listings-data-scien...  \n",
       "18  https://www.naukri.com/job-listings-junior-dig...  \n",
       "19  https://www.naukri.com/job-listings-junior-dig...  "
      ]
     },
     "execution_count": 42,
     "metadata": {},
     "output_type": "execute_result"
    }
   ],
   "source": [
    "pd.DataFrame(data[1:],columns=data[0])"
   ]
  },
  {
   "cell_type": "code",
   "execution_count": 44,
   "metadata": {},
   "outputs": [
    {
     "data": {
      "text/plain": [
       "'(10 Reviews)'"
      ]
     },
     "execution_count": 44,
     "metadata": {},
     "output_type": "execute_result"
    }
   ],
   "source": [
    "div = wd.find_element_by_class_name(\"list\")\n",
    "article = div.find_elements_by_tag_name(\"article\")\n",
    "art = article[0]\n",
    "a = art.find_elements_by_tag_name(\"a\")\n",
    "name = a[0].text\n",
    "link = a[0].get_attribute(\"href\")\n",
    "company = a[1].text\n",
    "a[2].text"
   ]
  },
  {
   "cell_type": "code",
   "execution_count": 46,
   "metadata": {},
   "outputs": [
    {
     "data": {
      "text/plain": [
       "'3.5'"
      ]
     },
     "execution_count": 46,
     "metadata": {},
     "output_type": "execute_result"
    }
   ],
   "source": [
    "review = art.find_element_by_tag_name(\"span\")\n",
    "review.text"
   ]
  },
  {
   "cell_type": "code",
   "execution_count": 49,
   "metadata": {},
   "outputs": [
    {
     "data": {
      "text/plain": [
       "'10 Reviews'"
      ]
     },
     "execution_count": 49,
     "metadata": {},
     "output_type": "execute_result"
    }
   ],
   "source": [
    "no_of_review = a[2].text\n",
    "no_of_review = no_of_review[1:-1]\n",
    "no_of_review"
   ]
  },
  {
   "cell_type": "code",
   "execution_count": 55,
   "metadata": {},
   "outputs": [
    {
     "data": {
      "text/plain": [
       "'3-6 Yrs\\nNot disclosed\\nBengaluru'"
      ]
     },
     "execution_count": 55,
     "metadata": {},
     "output_type": "execute_result"
    }
   ],
   "source": [
    "ul = art.find_elements_by_tag_name(\"ul\")\n",
    "ul[0].text"
   ]
  },
  {
   "cell_type": "code",
   "execution_count": 61,
   "metadata": {},
   "outputs": [
    {
     "data": {
      "text/plain": [
       "'Bengaluru'"
      ]
     },
     "execution_count": 61,
     "metadata": {},
     "output_type": "execute_result"
    }
   ],
   "source": [
    "li = ul[0].find_elements_by_tag_name(\"li\")\n",
    "experience = li[0].text\n",
    "ctc = li[1].text\n",
    "location = li[2].text\n",
    "location"
   ]
  },
  {
   "cell_type": "code",
   "execution_count": 64,
   "metadata": {},
   "outputs": [
    {
     "data": {
      "text/plain": [
       "'Who can join Immediate - 20 days is only preferred'"
      ]
     },
     "execution_count": 64,
     "metadata": {},
     "output_type": "execute_result"
    }
   ],
   "source": [
    "div = art.find_elements_by_tag_name(\"div\")\n",
    "jd = div[3].text"
   ]
  },
  {
   "cell_type": "code",
   "execution_count": 67,
   "metadata": {},
   "outputs": [
    {
     "data": {
      "text/plain": [
       "'Data Science\\nData Ingestion\\nTensorflow\\nR\\nData Scientist\\nPySpark\\nStatistical Modeling\\nMachine Learning'"
      ]
     },
     "execution_count": 67,
     "metadata": {},
     "output_type": "execute_result"
    }
   ],
   "source": [
    "req_skills = ul[1].text\n",
    "req_skills"
   ]
  },
  {
   "cell_type": "code",
   "execution_count": 70,
   "metadata": {},
   "outputs": [
    {
     "data": {
      "text/plain": [
       "'1 DAY AGO'"
      ]
     },
     "execution_count": 70,
     "metadata": {},
     "output_type": "execute_result"
    }
   ],
   "source": [
    "span = art.find_elements_by_tag_name(\"span\")\n",
    "posted = span[5].text"
   ]
  },
  {
   "cell_type": "code",
   "execution_count": null,
   "metadata": {},
   "outputs": [],
   "source": []
  }
 ],
 "metadata": {
  "kernelspec": {
   "display_name": "Python 3",
   "language": "python",
   "name": "python3"
  },
  "language_info": {
   "codemirror_mode": {
    "name": "ipython",
    "version": 3
   },
   "file_extension": ".py",
   "mimetype": "text/x-python",
   "name": "python",
   "nbconvert_exporter": "python",
   "pygments_lexer": "ipython3",
   "version": "3.7.4"
  }
 },
 "nbformat": 4,
 "nbformat_minor": 2
}
