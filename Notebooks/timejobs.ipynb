{
 "cells": [
  {
   "cell_type": "code",
   "execution_count": 1,
   "metadata": {},
   "outputs": [],
   "source": [
    "import selenium\n",
    "from selenium import webdriver\n",
    "import pandas as pd"
   ]
  },
  {
   "cell_type": "code",
   "execution_count": 5,
   "metadata": {},
   "outputs": [],
   "source": [
    "DRIVER_PATH = './chromedriver.exe'\n",
    "wd = webdriver.Chrome(executable_path=DRIVER_PATH)\n",
    "url = 'https://www.timesjobs.com/candidate/job-search.html?searchType=personalizedSearch&from=submit&txtKeywords='"
   ]
  },
  {
   "cell_type": "code",
   "execution_count": 6,
   "metadata": {},
   "outputs": [],
   "source": [
    "skill = 'data science'\n",
    "loc = 'bengaluru'\n",
    "exp = '0'"
   ]
  },
  {
   "cell_type": "code",
   "execution_count": 7,
   "metadata": {},
   "outputs": [],
   "source": [
    "url_skill = '+'.join(skill.split())"
   ]
  },
  {
   "cell_type": "code",
   "execution_count": 8,
   "metadata": {},
   "outputs": [
    {
     "data": {
      "text/plain": [
       "'https://www.timesjobs.com/candidate/job-search.html?searchType=personalizedSearch&from=submit&txtKeywords=data+science&txtLocation=bengaluru&cboWorkExp1=0'"
      ]
     },
     "execution_count": 8,
     "metadata": {},
     "output_type": "execute_result"
    }
   ],
   "source": [
    "url = url + url_skill + '&txtLocation=' + loc + '&cboWorkExp1=' + exp\n",
    "url"
   ]
  },
  {
   "cell_type": "code",
   "execution_count": 9,
   "metadata": {},
   "outputs": [],
   "source": [
    "wd.get(url)"
   ]
  },
  {
   "cell_type": "code",
   "execution_count": 50,
   "metadata": {},
   "outputs": [],
   "source": [
    "try:\n",
    "    js = 'document.getElementById(\"closeId\").click();'\n",
    "    wd.execute_script(js)\n",
    "except:\n",
    "    pass\n",
    "try:\n",
    "    container = wd.find_element_by_class_name(\"new-joblist\")\n",
    "    lst = container.find_elements_by_class_name(\"job-bx\")\n",
    "except:\n",
    "    pass\n",
    "data = [['Title','Company','ctc','experience','location','Description','skills_required','link']]\n",
    "i = 0\n",
    "for li in lst:\n",
    "    try:\n",
    "        title = li.find_element_by_class_name(\"clearfix\").find_element_by_tag_name(\"a\")\n",
    "        name = title.text\n",
    "        link = title.get_attribute(\"href\")\n",
    "    except:\n",
    "        continue\n",
    "    try:\n",
    "        company = li.find_element_by_class_name(\"joblist-comp-name\").text\n",
    "    except:\n",
    "        company = 'Not Available'\n",
    "    try:\n",
    "        exp = li.find_element_by_class_name(\"top-jd-dtl\").find_elements_by_tag_name(\"li\")[0].text\n",
    "        exp = exp[12:]\n",
    "    except:\n",
    "        exp = 'Not Available'\n",
    "    try:\n",
    "        try:\n",
    "            loc = li.find_element_by_class_name(\"top-jd-dtl\").find_elements_by_tag_name(\"li\")[2].text\n",
    "        except:\n",
    "            loc = li.find_element_by_class_name(\"top-jd-dtl\").find_elements_by_tag_name(\"li\")[1].text\n",
    "        loc = loc[12:]\n",
    "    except:\n",
    "        loc = 'Not Available'\n",
    "    try:\n",
    "        ele = li.find_element_by_class_name(\"rupee\").text\n",
    "        sal = li.find_element_by_class_name(\"top-jd-dtl\").find_elements_by_tag_name(\"li\")[1].text\n",
    "        sal = sal[2:]\n",
    "    except:\n",
    "        sal = 'Not Available'\n",
    "    try:\n",
    "        jd = li.find_element_by_class_name(\"list-job-dtl\").find_elements_by_tag_name(\"li\")[0].text\n",
    "    except:\n",
    "        jd = 'Not Available'\n",
    "    try:\n",
    "        req_skills = li.find_element_by_class_name(\"list-job-dtl\").find_elements_by_tag_name(\"li\")[1].text\n",
    "    except:\n",
    "        req_skills = 'Not Available'\n",
    "    data.append([name,company,sal,exp,loc,jd,req_skills,link])\n",
    "    i+=1\n",
    "    if i==10:\n",
    "        break"
   ]
  },
  {
   "cell_type": "code",
   "execution_count": 51,
   "metadata": {},
   "outputs": [
    {
     "data": {
      "text/html": [
       "<div>\n",
       "<style scoped>\n",
       "    .dataframe tbody tr th:only-of-type {\n",
       "        vertical-align: middle;\n",
       "    }\n",
       "\n",
       "    .dataframe tbody tr th {\n",
       "        vertical-align: top;\n",
       "    }\n",
       "\n",
       "    .dataframe thead th {\n",
       "        text-align: right;\n",
       "    }\n",
       "</style>\n",
       "<table border=\"1\" class=\"dataframe\">\n",
       "  <thead>\n",
       "    <tr style=\"text-align: right;\">\n",
       "      <th></th>\n",
       "      <th>Title</th>\n",
       "      <th>Company</th>\n",
       "      <th>ctc</th>\n",
       "      <th>experience</th>\n",
       "      <th>location</th>\n",
       "      <th>Description</th>\n",
       "      <th>skills_required</th>\n",
       "      <th>link</th>\n",
       "    </tr>\n",
       "  </thead>\n",
       "  <tbody>\n",
       "    <tr>\n",
       "      <td>0</td>\n",
       "      <td>Data Science</td>\n",
       "      <td>ADmyBRAND</td>\n",
       "      <td>Not Available</td>\n",
       "      <td>0 - 3 yrs</td>\n",
       "      <td>Bengaluru / Bangalore</td>\n",
       "      <td>Job Description: Data ScienceSelecting feature...</td>\n",
       "      <td>KeySkills: data mining , api , machine learning</td>\n",
       "      <td>https://www.timesjobs.com/job-detail/data-scie...</td>\n",
       "    </tr>\n",
       "    <tr>\n",
       "      <td>1</td>\n",
       "      <td>Data Science</td>\n",
       "      <td>DataWeave Software Pvt. Ltd.</td>\n",
       "      <td>Not Available</td>\n",
       "      <td>0 - 3 yrs</td>\n",
       "      <td>Bengaluru / Bangalore</td>\n",
       "      <td>Job Description: Data ScienceWe the Data Scien...</td>\n",
       "      <td>KeySkills: natural language processing , machi...</td>\n",
       "      <td>https://www.timesjobs.com/job-detail/data-scie...</td>\n",
       "    </tr>\n",
       "    <tr>\n",
       "      <td>2</td>\n",
       "      <td>Head - Data Sciences</td>\n",
       "      <td>Posterity Consulting</td>\n",
       "      <td>Not Available</td>\n",
       "      <td>0 - 3 yrs</td>\n",
       "      <td>Bengaluru / Bangalore</td>\n",
       "      <td>Job Description: Head - Data Sciences Location...</td>\n",
       "      <td>KeySkills: data analysis , data science</td>\n",
       "      <td>https://www.timesjobs.com/job-detail/head-data...</td>\n",
       "    </tr>\n",
       "    <tr>\n",
       "      <td>3</td>\n",
       "      <td>Data Science Engineer</td>\n",
       "      <td>Bloom Consulting Services</td>\n",
       "      <td>Not Available</td>\n",
       "      <td>0 - 3 yrs</td>\n",
       "      <td>Bengaluru / Bangalore</td>\n",
       "      <td>Job Description: Data Science EngineerRoles an...</td>\n",
       "      <td>KeySkills: hive , algorithms , python , scala ...</td>\n",
       "      <td>https://www.timesjobs.com/job-detail/data-scie...</td>\n",
       "    </tr>\n",
       "    <tr>\n",
       "      <td>4</td>\n",
       "      <td>Computer Operator / Data Entry Operator</td>\n",
       "      <td>Aryan technologies (More Jobs)</td>\n",
       "      <td>Rs 2.80 - 3.80 Lacs p.a.</td>\n",
       "      <td>0 - 3 yrs</td>\n",
       "      <td>Ahmedabad, Bengaluru / Bangalore, Hyderabad/Se...</td>\n",
       "      <td>Job Description: Roles &amp; Responsibilities: Pos...</td>\n",
       "      <td>KeySkills: Fresher , Online Data Entry , Data ...</td>\n",
       "      <td>https://www.timesjobs.com/job-detail/computer-...</td>\n",
       "    </tr>\n",
       "    <tr>\n",
       "      <td>5</td>\n",
       "      <td>home based work for all , Imternet marketing ,...</td>\n",
       "      <td>JOY Trip (More Jobs)</td>\n",
       "      <td>Rs 3.00 - 5.00 Lacs p.a.</td>\n",
       "      <td>0 - 3 yrs</td>\n",
       "      <td>Ahmedabad, Bengaluru / Bangalore, Chennai, Hyd...</td>\n",
       "      <td>Job Description: Dear All , Work profile : To ...</td>\n",
       "      <td>KeySkills: Bpo , Medical Rep , Executive , sal...</td>\n",
       "      <td>https://www.timesjobs.com/job-detail/home-base...</td>\n",
       "    </tr>\n",
       "    <tr>\n",
       "      <td>6</td>\n",
       "      <td>Warehouse Assistant</td>\n",
       "      <td>Venice Management Service (More Jobs)</td>\n",
       "      <td>Rs 3.00 - 5.00 Lacs p.a.</td>\n",
       "      <td>0 - 3 yrs</td>\n",
       "      <td>Bengaluru / Bangalore, Chennai, Hyderabad/Secu...</td>\n",
       "      <td>Job Description: Accounting KnowledgeTimely di...</td>\n",
       "      <td>KeySkills: Invoicing , Delivery Challan , Cust...</td>\n",
       "      <td>https://www.timesjobs.com/job-detail/warehouse...</td>\n",
       "    </tr>\n",
       "    <tr>\n",
       "      <td>7</td>\n",
       "      <td>Inside Sales Specialist - Female candidates _w...</td>\n",
       "      <td>mchoovers consulting (More Jobs)</td>\n",
       "      <td>Not Available</td>\n",
       "      <td>0 - 3 yrs</td>\n",
       "      <td>Bengaluru / Bangalore, Delhi/NCR, Mumbai, Noid...</td>\n",
       "      <td>Job Description: DescriptionRemote / Work From...</td>\n",
       "      <td>KeySkills: inside sales , Lead Generation , Co...</td>\n",
       "      <td>https://www.timesjobs.com/job-detail/inside-sa...</td>\n",
       "    </tr>\n",
       "    <tr>\n",
       "      <td>8</td>\n",
       "      <td>Store &amp; Purchase Officer</td>\n",
       "      <td>Venice Management Service (More Jobs)</td>\n",
       "      <td>Rs 3.00 - 5.00 Lacs p.a.</td>\n",
       "      <td>0 - 3 yrs</td>\n",
       "      <td>Bengaluru / Bangalore, Chennai, Hyderabad/Secu...</td>\n",
       "      <td>Job Description: Knowledge of proper bookkeepi...</td>\n",
       "      <td>KeySkills: stores operations , inventory opera...</td>\n",
       "      <td>https://www.timesjobs.com/job-detail/store-amp...</td>\n",
       "    </tr>\n",
       "    <tr>\n",
       "      <td>9</td>\n",
       "      <td>Front Office Executive</td>\n",
       "      <td>Venice Management Service (More Jobs)</td>\n",
       "      <td>Rs 3.00 - 5.00 Lacs p.a.</td>\n",
       "      <td>0 - 3 yrs</td>\n",
       "      <td>Bengaluru / Bangalore, Chennai, Hyderabad/Secu...</td>\n",
       "      <td>Job Description: A front office executive is r...</td>\n",
       "      <td>KeySkills: administration , front office execu...</td>\n",
       "      <td>https://www.timesjobs.com/job-detail/front-off...</td>\n",
       "    </tr>\n",
       "  </tbody>\n",
       "</table>\n",
       "</div>"
      ],
      "text/plain": [
       "                                               Title  \\\n",
       "0                                       Data Science   \n",
       "1                                       Data Science   \n",
       "2                               Head - Data Sciences   \n",
       "3                              Data Science Engineer   \n",
       "4            Computer Operator / Data Entry Operator   \n",
       "5  home based work for all , Imternet marketing ,...   \n",
       "6                                Warehouse Assistant   \n",
       "7  Inside Sales Specialist - Female candidates _w...   \n",
       "8                           Store & Purchase Officer   \n",
       "9                             Front Office Executive   \n",
       "\n",
       "                                 Company                       ctc experience  \\\n",
       "0                              ADmyBRAND             Not Available  0 - 3 yrs   \n",
       "1           DataWeave Software Pvt. Ltd.             Not Available  0 - 3 yrs   \n",
       "2                   Posterity Consulting             Not Available  0 - 3 yrs   \n",
       "3              Bloom Consulting Services             Not Available  0 - 3 yrs   \n",
       "4         Aryan technologies (More Jobs)  Rs 2.80 - 3.80 Lacs p.a.  0 - 3 yrs   \n",
       "5                   JOY Trip (More Jobs)  Rs 3.00 - 5.00 Lacs p.a.  0 - 3 yrs   \n",
       "6  Venice Management Service (More Jobs)  Rs 3.00 - 5.00 Lacs p.a.  0 - 3 yrs   \n",
       "7       mchoovers consulting (More Jobs)             Not Available  0 - 3 yrs   \n",
       "8  Venice Management Service (More Jobs)  Rs 3.00 - 5.00 Lacs p.a.  0 - 3 yrs   \n",
       "9  Venice Management Service (More Jobs)  Rs 3.00 - 5.00 Lacs p.a.  0 - 3 yrs   \n",
       "\n",
       "                                            location  \\\n",
       "0                              Bengaluru / Bangalore   \n",
       "1                              Bengaluru / Bangalore   \n",
       "2                              Bengaluru / Bangalore   \n",
       "3                              Bengaluru / Bangalore   \n",
       "4  Ahmedabad, Bengaluru / Bangalore, Hyderabad/Se...   \n",
       "5  Ahmedabad, Bengaluru / Bangalore, Chennai, Hyd...   \n",
       "6  Bengaluru / Bangalore, Chennai, Hyderabad/Secu...   \n",
       "7  Bengaluru / Bangalore, Delhi/NCR, Mumbai, Noid...   \n",
       "8  Bengaluru / Bangalore, Chennai, Hyderabad/Secu...   \n",
       "9  Bengaluru / Bangalore, Chennai, Hyderabad/Secu...   \n",
       "\n",
       "                                         Description  \\\n",
       "0  Job Description: Data ScienceSelecting feature...   \n",
       "1  Job Description: Data ScienceWe the Data Scien...   \n",
       "2  Job Description: Head - Data Sciences Location...   \n",
       "3  Job Description: Data Science EngineerRoles an...   \n",
       "4  Job Description: Roles & Responsibilities: Pos...   \n",
       "5  Job Description: Dear All , Work profile : To ...   \n",
       "6  Job Description: Accounting KnowledgeTimely di...   \n",
       "7  Job Description: DescriptionRemote / Work From...   \n",
       "8  Job Description: Knowledge of proper bookkeepi...   \n",
       "9  Job Description: A front office executive is r...   \n",
       "\n",
       "                                     skills_required  \\\n",
       "0    KeySkills: data mining , api , machine learning   \n",
       "1  KeySkills: natural language processing , machi...   \n",
       "2            KeySkills: data analysis , data science   \n",
       "3  KeySkills: hive , algorithms , python , scala ...   \n",
       "4  KeySkills: Fresher , Online Data Entry , Data ...   \n",
       "5  KeySkills: Bpo , Medical Rep , Executive , sal...   \n",
       "6  KeySkills: Invoicing , Delivery Challan , Cust...   \n",
       "7  KeySkills: inside sales , Lead Generation , Co...   \n",
       "8  KeySkills: stores operations , inventory opera...   \n",
       "9  KeySkills: administration , front office execu...   \n",
       "\n",
       "                                                link  \n",
       "0  https://www.timesjobs.com/job-detail/data-scie...  \n",
       "1  https://www.timesjobs.com/job-detail/data-scie...  \n",
       "2  https://www.timesjobs.com/job-detail/head-data...  \n",
       "3  https://www.timesjobs.com/job-detail/data-scie...  \n",
       "4  https://www.timesjobs.com/job-detail/computer-...  \n",
       "5  https://www.timesjobs.com/job-detail/home-base...  \n",
       "6  https://www.timesjobs.com/job-detail/warehouse...  \n",
       "7  https://www.timesjobs.com/job-detail/inside-sa...  \n",
       "8  https://www.timesjobs.com/job-detail/store-amp...  \n",
       "9  https://www.timesjobs.com/job-detail/front-off...  "
      ]
     },
     "execution_count": 51,
     "metadata": {},
     "output_type": "execute_result"
    }
   ],
   "source": [
    "pd.DataFrame(data[1:],columns=data[0])"
   ]
  },
  {
   "cell_type": "code",
   "execution_count": 10,
   "metadata": {},
   "outputs": [],
   "source": [
    "js = 'document.getElementById(\"closeId\").click();'\n",
    "wd.execute_script(js)"
   ]
  },
  {
   "cell_type": "code",
   "execution_count": 32,
   "metadata": {},
   "outputs": [
    {
     "data": {
      "text/plain": [
       "25"
      ]
     },
     "execution_count": 32,
     "metadata": {},
     "output_type": "execute_result"
    }
   ],
   "source": [
    "container = wd.find_element_by_class_name(\"new-joblist\")\n",
    "lst = container.find_elements_by_class_name(\"job-bx\")# job-bx wht-shd-bx\")\n",
    "li = lst[4]\n",
    "len(lst)"
   ]
  },
  {
   "cell_type": "code",
   "execution_count": 33,
   "metadata": {},
   "outputs": [
    {
     "data": {
      "text/plain": [
       "'Computer Operator / Data Entry Operator\\nAryan technologies (More Jobs)\\ncard_travel\\n0 - 3 yrs\\n₹\\nRs 2.80 - 3.80 Lacs p.a.\\nlocation_on\\nAhmedabad, Bengaluru / Bangalore, Hyderabad/Secunderabad, Kolkata, Pune\\nJob Description: Roles & Responsibilities: Position:Fresher / Computer Operator / Data Entry Executive / Online Data Entry / Data Entry Operator / Data Base Administrator / Data Entr...\\nKeySkills: Fresher , Online Data Entry , Data Entry Operator , Data Base Administrator , Data Entry Officer , Form Filling , Computer Operator , Entry Executive , DEO , Entry\\nAPPLY\\nPosted 1 day ago'"
      ]
     },
     "execution_count": 33,
     "metadata": {},
     "output_type": "execute_result"
    }
   ],
   "source": [
    "li.text"
   ]
  },
  {
   "cell_type": "code",
   "execution_count": 34,
   "metadata": {},
   "outputs": [
    {
     "name": "stdout",
     "output_type": "stream",
     "text": [
      "Computer Operator / Data Entry Operator https://www.timesjobs.com/job-detail/computer-operator-data-entry-operator-aryan-technologies-ahmedabad-0-3yrs-jobid-msneMB66CElzpSvf__PLUS__uAgZw==-key-data%20science-loc-198355&source=srp\n"
     ]
    }
   ],
   "source": [
    "title = li.find_element_by_class_name(\"clearfix\").find_element_by_tag_name(\"a\")\n",
    "name = title.text\n",
    "link = title.get_attribute(\"href\")\n",
    "print(name,link)"
   ]
  },
  {
   "cell_type": "code",
   "execution_count": 35,
   "metadata": {},
   "outputs": [
    {
     "data": {
      "text/plain": [
       "'Aryan technologies (More Jobs)'"
      ]
     },
     "execution_count": 35,
     "metadata": {},
     "output_type": "execute_result"
    }
   ],
   "source": [
    "company = li.find_element_by_class_name(\"joblist-comp-name\").text\n",
    "company"
   ]
  },
  {
   "cell_type": "code",
   "execution_count": 36,
   "metadata": {},
   "outputs": [
    {
     "data": {
      "text/plain": [
       "'0 - 3 yrs'"
      ]
     },
     "execution_count": 36,
     "metadata": {},
     "output_type": "execute_result"
    }
   ],
   "source": [
    "exp = li.find_element_by_class_name(\"top-jd-dtl\").find_elements_by_tag_name(\"li\")[0].text\n",
    "exp = exp[12:]\n",
    "exp"
   ]
  },
  {
   "cell_type": "code",
   "execution_count": 37,
   "metadata": {},
   "outputs": [
    {
     "data": {
      "text/plain": [
       "'Ahmedabad, Bengaluru / Bangalore, Hyderabad/Secunderabad, Kolkata, Pune'"
      ]
     },
     "execution_count": 37,
     "metadata": {},
     "output_type": "execute_result"
    }
   ],
   "source": [
    "try:\n",
    "    loc = li.find_element_by_class_name(\"top-jd-dtl\").find_elements_by_tag_name(\"li\")[2].text\n",
    "except:\n",
    "    loc = li.find_element_by_class_name(\"top-jd-dtl\").find_elements_by_tag_name(\"li\")[1].text\n",
    "loc = loc[12:]    \n",
    "loc"
   ]
  },
  {
   "cell_type": "code",
   "execution_count": 41,
   "metadata": {},
   "outputs": [
    {
     "data": {
      "text/plain": [
       "'Rs 2.80 - 3.80 Lacs p.a.'"
      ]
     },
     "execution_count": 41,
     "metadata": {},
     "output_type": "execute_result"
    }
   ],
   "source": [
    "ele = li.find_element_by_class_name(\"rupee\").text\n",
    "sal = li.find_element_by_class_name(\"top-jd-dtl\").find_elements_by_tag_name(\"li\")[1].text\n",
    "sal = sal[2:]\n",
    "sal"
   ]
  },
  {
   "cell_type": "code",
   "execution_count": 43,
   "metadata": {},
   "outputs": [
    {
     "data": {
      "text/plain": [
       "'Job Description: Roles & Responsibilities: Position:Fresher / Computer Operator / Data Entry Executive / Online Data Entry / Data Entry Operator / Data Base Administrator / Data Entr...'"
      ]
     },
     "execution_count": 43,
     "metadata": {},
     "output_type": "execute_result"
    }
   ],
   "source": [
    "jd = li.find_element_by_class_name(\"list-job-dtl\").find_elements_by_tag_name(\"li\")[0].text\n",
    "jd"
   ]
  },
  {
   "cell_type": "code",
   "execution_count": 45,
   "metadata": {},
   "outputs": [
    {
     "data": {
      "text/plain": [
       "'KeySkills: Fresher , Online Data Entry , Data Entry Operator , Data Base Administrator , Data Entry Officer , Form Filling , Computer Operator , Entry Executive , DEO , Entry'"
      ]
     },
     "execution_count": 45,
     "metadata": {},
     "output_type": "execute_result"
    }
   ],
   "source": [
    "req_skills = li.find_element_by_class_name(\"list-job-dtl\").find_elements_by_tag_name(\"li\")[1].text\n",
    "req_skills"
   ]
  },
  {
   "cell_type": "code",
   "execution_count": null,
   "metadata": {},
   "outputs": [],
   "source": []
  }
 ],
 "metadata": {
  "kernelspec": {
   "display_name": "Python 3",
   "language": "python",
   "name": "python3"
  },
  "language_info": {
   "codemirror_mode": {
    "name": "ipython",
    "version": 3
   },
   "file_extension": ".py",
   "mimetype": "text/x-python",
   "name": "python",
   "nbconvert_exporter": "python",
   "pygments_lexer": "ipython3",
   "version": "3.7.4"
  }
 },
 "nbformat": 4,
 "nbformat_minor": 2
}
