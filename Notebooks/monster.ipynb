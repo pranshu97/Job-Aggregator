{
 "cells": [
  {
   "cell_type": "code",
   "execution_count": 2,
   "metadata": {},
   "outputs": [],
   "source": [
    "import selenium\n",
    "from selenium import webdriver\n",
    "import pandas as pd"
   ]
  },
  {
   "cell_type": "code",
   "execution_count": 58,
   "metadata": {},
   "outputs": [],
   "source": [
    "DRIVER_PATH = './chromedriver.exe'\n",
    "wd = webdriver.Chrome(executable_path=DRIVER_PATH)\n",
    "url = 'https://www.monsterindia.com/srp/results?query='"
   ]
  },
  {
   "cell_type": "code",
   "execution_count": 61,
   "metadata": {},
   "outputs": [],
   "source": [
    "skill = 'data science'\n",
    "loc = 'Bengaluru'\n",
    "exp = 0\n",
    "exp=str(exp)"
   ]
  },
  {
   "cell_type": "code",
   "execution_count": 62,
   "metadata": {},
   "outputs": [
    {
     "data": {
      "text/plain": [
       "'data%20science'"
      ]
     },
     "execution_count": 62,
     "metadata": {},
     "output_type": "execute_result"
    }
   ],
   "source": [
    "url_skill = '%20'.join(skill.split())\n",
    "url_skill"
   ]
  },
  {
   "cell_type": "code",
   "execution_count": 65,
   "metadata": {
    "scrolled": true
   },
   "outputs": [
    {
     "data": {
      "text/plain": [
       "'https://www.monsterindia.com/srp/results?query=data%20science&locationsBengaluru&experienceRanges=0~0&experience=0data%20science&locations=Bengaluru&experienceRanges=0~0&experience=0'"
      ]
     },
     "execution_count": 65,
     "metadata": {},
     "output_type": "execute_result"
    }
   ],
   "source": [
    "url=url+url_skill+'&locations='+loc+'&experienceRanges='+exp+'~'+exp+'&experience='+exp\n",
    "url\n",
    "# &experienceRanges=0~0&experience=0"
   ]
  },
  {
   "cell_type": "code",
   "execution_count": 66,
   "metadata": {},
   "outputs": [],
   "source": [
    "wd.get(url)"
   ]
  },
  {
   "cell_type": "code",
   "execution_count": 82,
   "metadata": {},
   "outputs": [],
   "source": [
    "try:\n",
    "    container = wd.find_elements_by_xpath('//div[@class=\"srp-right-part\"]/div[@class=\"srp-left\"]/div/div/div')[2]\n",
    "    divs = container.find_elements_by_class_name(\"card-apply-content\")\n",
    "except:\n",
    "    pass\n",
    "data = [['Title','Company','ctc','experience','location','Description','skills_required','link']]\n",
    "i = 0\n",
    "for div in divs:\n",
    "    try:\n",
    "        title = div.find_element_by_class_name(\"medium\").find_element_by_tag_name(\"a\")\n",
    "        name = title.text\n",
    "        link = title.get_attribute(\"href\")\n",
    "    except:\n",
    "        continue\n",
    "    try:\n",
    "        company = div.find_element_by_class_name(\"company-name\").find_element_by_tag_name(\"a\").text\n",
    "    except:\n",
    "        company = 'Not Available'\n",
    "    try:\n",
    "        location = div.find_elements_by_class_name(\"loc\")[0].text\n",
    "    except:\n",
    "        location = 'Not Available'\n",
    "    try:\n",
    "        exp = div.find_elements_by_class_name(\"loc\")[1].text\n",
    "    except:\n",
    "        exp = 'Not Available'\n",
    "    try:\n",
    "        ctc = div.find_elements_by_class_name(\"loc\")[2].text\n",
    "    except:\n",
    "        ctc = 'Not Available'\n",
    "    try:\n",
    "        jd = div.find_element_by_class_name(\"job-descrip\").text\n",
    "    except:\n",
    "        jd = 'Not Available'\n",
    "    try:\n",
    "        req_skills = div.find_element_by_class_name(\"descrip-skills\").text\n",
    "        req_skills = req_skills[9:]\n",
    "    except:\n",
    "        req_skills = 'Not Available'\n",
    "    data.append([name,company,ctc,exp,location,jd,req_skills,link])\n",
    "    i+=1\n",
    "    if i==10:\n",
    "        break"
   ]
  },
  {
   "cell_type": "code",
   "execution_count": 83,
   "metadata": {},
   "outputs": [
    {
     "data": {
      "text/html": [
       "<div>\n",
       "<style scoped>\n",
       "    .dataframe tbody tr th:only-of-type {\n",
       "        vertical-align: middle;\n",
       "    }\n",
       "\n",
       "    .dataframe tbody tr th {\n",
       "        vertical-align: top;\n",
       "    }\n",
       "\n",
       "    .dataframe thead th {\n",
       "        text-align: right;\n",
       "    }\n",
       "</style>\n",
       "<table border=\"1\" class=\"dataframe\">\n",
       "  <thead>\n",
       "    <tr style=\"text-align: right;\">\n",
       "      <th></th>\n",
       "      <th>0</th>\n",
       "      <th>1</th>\n",
       "      <th>2</th>\n",
       "      <th>3</th>\n",
       "      <th>4</th>\n",
       "      <th>5</th>\n",
       "      <th>6</th>\n",
       "      <th>7</th>\n",
       "    </tr>\n",
       "  </thead>\n",
       "  <tbody>\n",
       "    <tr>\n",
       "      <td>0</td>\n",
       "      <td>Title</td>\n",
       "      <td>Company</td>\n",
       "      <td>ctc</td>\n",
       "      <td>experience</td>\n",
       "      <td>location</td>\n",
       "      <td>Description</td>\n",
       "      <td>skills_required</td>\n",
       "      <td>link</td>\n",
       "    </tr>\n",
       "    <tr>\n",
       "      <td>1</td>\n",
       "      <td>Artificial Intelligence - Intern</td>\n",
       "      <td>Desk Nine Private Limited</td>\n",
       "      <td>Not Specified</td>\n",
       "      <td>0-1 Years</td>\n",
       "      <td>Bengaluru / Bangalore</td>\n",
       "      <td>AI you are expected to do research and platfor...</td>\n",
       "      <td>Machine Learning (ML) , Data Science , HTML , CSS</td>\n",
       "      <td>https://www.monsterindia.com/seeker/job-detail...</td>\n",
       "    </tr>\n",
       "    <tr>\n",
       "      <td>2</td>\n",
       "      <td>Software Development</td>\n",
       "      <td>Connecting Dots</td>\n",
       "      <td>Not Specified</td>\n",
       "      <td>0-1 Years</td>\n",
       "      <td>Bengaluru / Bangalore</td>\n",
       "      <td>Job opportunity for all the IT freshers</td>\n",
       "      <td>Enterprise Stack , Data Analytics Cloud Comput...</td>\n",
       "      <td>https://www.monsterindia.com/seeker/job-detail...</td>\n",
       "    </tr>\n",
       "    <tr>\n",
       "      <td>3</td>\n",
       "      <td>Sr Mgr-Data Analytics</td>\n",
       "      <td>Verizon</td>\n",
       "      <td>Not Specified</td>\n",
       "      <td></td>\n",
       "      <td>Bengaluru / Bangalore</td>\n",
       "      <td>What you’ll be doing... As a SeniorManager of ...</td>\n",
       "      <td>Not Available</td>\n",
       "      <td>https://www.monsterindia.com/seeker/job-detail...</td>\n",
       "    </tr>\n",
       "    <tr>\n",
       "      <td>4</td>\n",
       "      <td>Spec-Data Analytics</td>\n",
       "      <td>Verizon</td>\n",
       "      <td>Not Specified</td>\n",
       "      <td></td>\n",
       "      <td>Bengaluru / Bangalore</td>\n",
       "      <td>What you’ll be doing... As a data analyst/ ana...</td>\n",
       "      <td>Not Available</td>\n",
       "      <td>https://www.monsterindia.com/seeker/job-detail...</td>\n",
       "    </tr>\n",
       "    <tr>\n",
       "      <td>5</td>\n",
       "      <td>Python Developer</td>\n",
       "      <td>Multi Recruit</td>\n",
       "      <td>8,00,000-10,00,000 INR</td>\n",
       "      <td>0-4 Years</td>\n",
       "      <td>Bengaluru / Bangalore</td>\n",
       "      <td>We have a unique way of searching. We call it ...</td>\n",
       "      <td>Core NLP , TEST MINING , GUI automation , Ai b...</td>\n",
       "      <td>https://www.monsterindia.com/seeker/job-detail...</td>\n",
       "    </tr>\n",
       "    <tr>\n",
       "      <td>6</td>\n",
       "      <td>Spec-Data Analytics</td>\n",
       "      <td>Verizon</td>\n",
       "      <td>Not Specified</td>\n",
       "      <td></td>\n",
       "      <td>Bengaluru / Bangalore</td>\n",
       "      <td>What you’ll be doing... As a data scientist on...</td>\n",
       "      <td>Not Available</td>\n",
       "      <td>https://www.monsterindia.com/seeker/job-detail...</td>\n",
       "    </tr>\n",
       "    <tr>\n",
       "      <td>7</td>\n",
       "      <td>Spec-Data Analytics</td>\n",
       "      <td>Verizon</td>\n",
       "      <td>Not Specified</td>\n",
       "      <td></td>\n",
       "      <td>Bengaluru / Bangalore</td>\n",
       "      <td>What you’ll be doing... * Performing specific ...</td>\n",
       "      <td>Not Available</td>\n",
       "      <td>https://www.monsterindia.com/seeker/job-detail...</td>\n",
       "    </tr>\n",
       "    <tr>\n",
       "      <td>8</td>\n",
       "      <td>Amazon Fresher Openings For - BE BTECH EEE</td>\n",
       "      <td>Not Available</td>\n",
       "      <td>4,40,000-5,70,000 INR</td>\n",
       "      <td></td>\n",
       "      <td>Bengaluru / Bangalore, Chennai</td>\n",
       "      <td>softwer engineer , java ,fresher</td>\n",
       "      <td>Software Engineer , Software developer , Route...</td>\n",
       "      <td>https://www.monsterindia.com/seeker/job-detail...</td>\n",
       "    </tr>\n",
       "    <tr>\n",
       "      <td>9</td>\n",
       "      <td>immediate opening for software engineer</td>\n",
       "      <td>Diraa HR Services</td>\n",
       "      <td>Not Specified</td>\n",
       "      <td>0-5 Years</td>\n",
       "      <td>Coimbatore</td>\n",
       "      <td>Developing and directing software system valid...</td>\n",
       "      <td>Developer , Software Engineer , software testing</td>\n",
       "      <td>https://www.monsterindia.com/seeker/job-detail...</td>\n",
       "    </tr>\n",
       "    <tr>\n",
       "      <td>10</td>\n",
       "      <td>Cslt-Data Analytics</td>\n",
       "      <td>Verizon</td>\n",
       "      <td>Not Specified</td>\n",
       "      <td></td>\n",
       "      <td>Chennai</td>\n",
       "      <td>What you’ll be doing... Verizon is actively se...</td>\n",
       "      <td>Not Available</td>\n",
       "      <td>https://www.monsterindia.com/seeker/job-detail...</td>\n",
       "    </tr>\n",
       "  </tbody>\n",
       "</table>\n",
       "</div>"
      ],
      "text/plain": [
       "                                             0                          1  \\\n",
       "0                                        Title                    Company   \n",
       "1             Artificial Intelligence - Intern  Desk Nine Private Limited   \n",
       "2                         Software Development            Connecting Dots   \n",
       "3                        Sr Mgr-Data Analytics                    Verizon   \n",
       "4                          Spec-Data Analytics                    Verizon   \n",
       "5                             Python Developer              Multi Recruit   \n",
       "6                          Spec-Data Analytics                    Verizon   \n",
       "7                          Spec-Data Analytics                    Verizon   \n",
       "8   Amazon Fresher Openings For - BE BTECH EEE              Not Available   \n",
       "9      immediate opening for software engineer          Diraa HR Services   \n",
       "10                         Cslt-Data Analytics                    Verizon   \n",
       "\n",
       "                         2           3                               4  \\\n",
       "0                      ctc  experience                        location   \n",
       "1            Not Specified   0-1 Years           Bengaluru / Bangalore   \n",
       "2            Not Specified   0-1 Years           Bengaluru / Bangalore   \n",
       "3            Not Specified                       Bengaluru / Bangalore   \n",
       "4            Not Specified                       Bengaluru / Bangalore   \n",
       "5   8,00,000-10,00,000 INR   0-4 Years           Bengaluru / Bangalore   \n",
       "6            Not Specified                       Bengaluru / Bangalore   \n",
       "7            Not Specified                       Bengaluru / Bangalore   \n",
       "8    4,40,000-5,70,000 INR              Bengaluru / Bangalore, Chennai   \n",
       "9            Not Specified   0-5 Years                      Coimbatore   \n",
       "10           Not Specified                                     Chennai   \n",
       "\n",
       "                                                    5  \\\n",
       "0                                         Description   \n",
       "1   AI you are expected to do research and platfor...   \n",
       "2             Job opportunity for all the IT freshers   \n",
       "3   What you’ll be doing... As a SeniorManager of ...   \n",
       "4   What you’ll be doing... As a data analyst/ ana...   \n",
       "5   We have a unique way of searching. We call it ...   \n",
       "6   What you’ll be doing... As a data scientist on...   \n",
       "7   What you’ll be doing... * Performing specific ...   \n",
       "8                    softwer engineer , java ,fresher   \n",
       "9   Developing and directing software system valid...   \n",
       "10  What you’ll be doing... Verizon is actively se...   \n",
       "\n",
       "                                                    6  \\\n",
       "0                                     skills_required   \n",
       "1   Machine Learning (ML) , Data Science , HTML , CSS   \n",
       "2   Enterprise Stack , Data Analytics Cloud Comput...   \n",
       "3                                       Not Available   \n",
       "4                                       Not Available   \n",
       "5   Core NLP , TEST MINING , GUI automation , Ai b...   \n",
       "6                                       Not Available   \n",
       "7                                       Not Available   \n",
       "8   Software Engineer , Software developer , Route...   \n",
       "9    Developer , Software Engineer , software testing   \n",
       "10                                      Not Available   \n",
       "\n",
       "                                                    7  \n",
       "0                                                link  \n",
       "1   https://www.monsterindia.com/seeker/job-detail...  \n",
       "2   https://www.monsterindia.com/seeker/job-detail...  \n",
       "3   https://www.monsterindia.com/seeker/job-detail...  \n",
       "4   https://www.monsterindia.com/seeker/job-detail...  \n",
       "5   https://www.monsterindia.com/seeker/job-detail...  \n",
       "6   https://www.monsterindia.com/seeker/job-detail...  \n",
       "7   https://www.monsterindia.com/seeker/job-detail...  \n",
       "8   https://www.monsterindia.com/seeker/job-detail...  \n",
       "9   https://www.monsterindia.com/seeker/job-detail...  \n",
       "10  https://www.monsterindia.com/seeker/job-detail...  "
      ]
     },
     "execution_count": 83,
     "metadata": {},
     "output_type": "execute_result"
    }
   ],
   "source": [
    "pd.DataFrame(data)"
   ]
  },
  {
   "cell_type": "code",
   "execution_count": 84,
   "metadata": {},
   "outputs": [],
   "source": [
    "wd.close()"
   ]
  },
  {
   "cell_type": "code",
   "execution_count": 68,
   "metadata": {},
   "outputs": [
    {
     "data": {
      "text/plain": [
       "16"
      ]
     },
     "execution_count": 68,
     "metadata": {},
     "output_type": "execute_result"
    }
   ],
   "source": [
    "container = wd.find_elements_by_xpath('//div[@class=\"srp-right-part\"]/div[@class=\"srp-left\"]/div/div/div')[2]\n",
    "divs = container.find_elements_by_class_name(\"card-apply-content\")\n",
    "len(divs)"
   ]
  },
  {
   "cell_type": "code",
   "execution_count": 69,
   "metadata": {},
   "outputs": [
    {
     "data": {
      "text/plain": [
       "'Artificial Intelligence - Intern\\nDesk Nine Private Limited\\nBengaluru / Bangalore\\n0-1 Years\\nNot Specified\\nAI you are expected to do research and platform engineers, collaborates with business subject matter experts and technology delivery teams to deliver strategic cognitive computing projects from design, prototype, to full deployment and operation\\nSkills : Machine Learning (ML) , Data Science , HTML , CSS'"
      ]
     },
     "execution_count": 69,
     "metadata": {},
     "output_type": "execute_result"
    }
   ],
   "source": [
    "div=divs[0]\n",
    "div.text"
   ]
  },
  {
   "cell_type": "code",
   "execution_count": 70,
   "metadata": {},
   "outputs": [
    {
     "name": "stdout",
     "output_type": "stream",
     "text": [
      "Artificial Intelligence - Intern https://www.monsterindia.com/seeker/job-details?id=1460240\n"
     ]
    }
   ],
   "source": [
    "title = div.find_element_by_class_name(\"medium\").find_element_by_tag_name(\"a\")\n",
    "name = title.text\n",
    "link = title.get_attribute(\"href\")\n",
    "print(name,link)"
   ]
  },
  {
   "cell_type": "code",
   "execution_count": 71,
   "metadata": {},
   "outputs": [
    {
     "data": {
      "text/plain": [
       "'Desk Nine Private Limited'"
      ]
     },
     "execution_count": 71,
     "metadata": {},
     "output_type": "execute_result"
    }
   ],
   "source": [
    "company = div.find_element_by_class_name(\"company-name\").find_element_by_tag_name(\"a\").text\n",
    "company"
   ]
  },
  {
   "cell_type": "code",
   "execution_count": 73,
   "metadata": {},
   "outputs": [
    {
     "data": {
      "text/plain": [
       "'Bengaluru / Bangalore'"
      ]
     },
     "execution_count": 73,
     "metadata": {},
     "output_type": "execute_result"
    }
   ],
   "source": [
    "location = div.find_elements_by_class_name(\"loc\")[0].text\n",
    "location"
   ]
  },
  {
   "cell_type": "code",
   "execution_count": 74,
   "metadata": {},
   "outputs": [
    {
     "data": {
      "text/plain": [
       "'0-1 Years'"
      ]
     },
     "execution_count": 74,
     "metadata": {},
     "output_type": "execute_result"
    }
   ],
   "source": [
    "exp = div.find_elements_by_class_name(\"loc\")[1].text\n",
    "exp"
   ]
  },
  {
   "cell_type": "code",
   "execution_count": 75,
   "metadata": {},
   "outputs": [
    {
     "data": {
      "text/plain": [
       "'Not Specified'"
      ]
     },
     "execution_count": 75,
     "metadata": {},
     "output_type": "execute_result"
    }
   ],
   "source": [
    "ctc = div.find_elements_by_class_name(\"loc\")[2].text\n",
    "ctc"
   ]
  },
  {
   "cell_type": "code",
   "execution_count": 77,
   "metadata": {},
   "outputs": [
    {
     "data": {
      "text/plain": [
       "'AI you are expected to do research and platform engineers, collaborates with business subject matter experts and technology delivery teams to deliver strategic cognitive computing projects from design, prototype, to full deployment and operation'"
      ]
     },
     "execution_count": 77,
     "metadata": {},
     "output_type": "execute_result"
    }
   ],
   "source": [
    "jd = div.find_element_by_class_name(\"job-descrip\").text\n",
    "jd"
   ]
  },
  {
   "cell_type": "code",
   "execution_count": 79,
   "metadata": {},
   "outputs": [
    {
     "data": {
      "text/plain": [
       "'Machine Learning (ML) , Data Science , HTML , CSS'"
      ]
     },
     "execution_count": 79,
     "metadata": {},
     "output_type": "execute_result"
    }
   ],
   "source": [
    "req_skills = div.find_element_by_class_name(\"descrip-skills\").text\n",
    "req_skills = req_skills[9:]\n",
    "req_skills"
   ]
  },
  {
   "cell_type": "code",
   "execution_count": null,
   "metadata": {},
   "outputs": [],
   "source": []
  }
 ],
 "metadata": {
  "kernelspec": {
   "display_name": "Python 3",
   "language": "python",
   "name": "python3"
  },
  "language_info": {
   "codemirror_mode": {
    "name": "ipython",
    "version": 3
   },
   "file_extension": ".py",
   "mimetype": "text/x-python",
   "name": "python",
   "nbconvert_exporter": "python",
   "pygments_lexer": "ipython3",
   "version": "3.7.4"
  }
 },
 "nbformat": 4,
 "nbformat_minor": 2
}
