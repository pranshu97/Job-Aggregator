{
 "cells": [
  {
   "cell_type": "code",
   "execution_count": 1,
   "metadata": {},
   "outputs": [],
   "source": [
    "import selenium\n",
    "from selenium import webdriver\n",
    "import pandas as pd"
   ]
  },
  {
   "cell_type": "code",
   "execution_count": 2,
   "metadata": {},
   "outputs": [],
   "source": [
    "DRIVER_PATH = './chromedriver.exe'\n",
    "wd = webdriver.Chrome(executable_path=DRIVER_PATH)\n",
    "url = 'https://www.shine.com/job-search/'"
   ]
  },
  {
   "cell_type": "code",
   "execution_count": 38,
   "metadata": {},
   "outputs": [],
   "source": [
    "skill = 'data science'\n",
    "loc = 'bengaluru'\n",
    "exp = '2'"
   ]
  },
  {
   "cell_type": "code",
   "execution_count": 4,
   "metadata": {},
   "outputs": [
    {
     "data": {
      "text/plain": [
       "'https://www.shine.com/job-search/data-science-jobs-in-bengaluru'"
      ]
     },
     "execution_count": 4,
     "metadata": {},
     "output_type": "execute_result"
    }
   ],
   "source": [
    "url_skill = '-'.join(skill.split())\n",
    "url = url + url_skill + '-jobs-in-' + loc\n",
    "url"
   ]
  },
  {
   "cell_type": "code",
   "execution_count": 5,
   "metadata": {},
   "outputs": [],
   "source": [
    "wd.get(url)"
   ]
  },
  {
   "cell_type": "code",
   "execution_count": 43,
   "metadata": {},
   "outputs": [
    {
     "name": "stdout",
     "output_type": "stream",
     "text": [
      "5 2\n",
      "4 2\n",
      "4 2\n",
      "8 2\n",
      "5 2\n",
      "5 2\n"
     ]
    }
   ],
   "source": [
    "try:\n",
    "    js = f'document.getElementById(\"id_loc\").value=\"{loc}\";'\n",
    "    js += f'document.getElementsByClassName(\"submit\")[0].click();'\n",
    "    wd.execute_script(js)\n",
    "except:\n",
    "    pass\n",
    "try:\n",
    "    container = wd.find_element_by_id(\"id_results\")\n",
    "    lst = container.find_elements_by_class_name(\"search_listing\")\n",
    "except:\n",
    "    pass\n",
    "data = [['Title','Company','ctc','experience','location','Description','skills_required','link']]\n",
    "for li in lst:\n",
    "    try:\n",
    "        title = li.find_element_by_tag_name(\"a\")\n",
    "        name = title.get_attribute(\"title\")\n",
    "        link = title.get_attribute(\"href\")\n",
    "    except:\n",
    "        continue\n",
    "    try:\n",
    "        experience = li.find_element_by_class_name(\"cls_jobexperience\").text\n",
    "        e = int(experience[0])\n",
    "        exp = int(exp)\n",
    "        if e!=exp and e!=exp-1 and e!=exp+1:\n",
    "            continue\n",
    "    except:\n",
    "        exp = 'Not Available'\n",
    "    try:\n",
    "        company = li.find_element_by_class_name(\"cls_jobcompany\").text\n",
    "    except:\n",
    "        company = 'Not Available'\n",
    "    try:\n",
    "        loc = li.find_element_by_class_name(\"snp_loc\").text\n",
    "    except:\n",
    "        loc = 'Not Available'\n",
    "    try:\n",
    "        jd = li.find_element_by_class_name(\"srcresult\").text\n",
    "    except:\n",
    "        jd = 'Not Available'\n",
    "    try:\n",
    "        req_skills = li.find_element_by_class_name(\"cls_jobskill\").text\n",
    "    except:\n",
    "        req_skills = 'Not Available'\n",
    "    sal = 'Not Available'\n",
    "    data.append([name,company,sal,exp,loc,jd,req_skills,link])"
   ]
  },
  {
   "cell_type": "code",
   "execution_count": 44,
   "metadata": {},
   "outputs": [
    {
     "data": {
      "text/html": [
       "<div>\n",
       "<style scoped>\n",
       "    .dataframe tbody tr th:only-of-type {\n",
       "        vertical-align: middle;\n",
       "    }\n",
       "\n",
       "    .dataframe tbody tr th {\n",
       "        vertical-align: top;\n",
       "    }\n",
       "\n",
       "    .dataframe thead th {\n",
       "        text-align: right;\n",
       "    }\n",
       "</style>\n",
       "<table border=\"1\" class=\"dataframe\">\n",
       "  <thead>\n",
       "    <tr style=\"text-align: right;\">\n",
       "      <th></th>\n",
       "      <th>Title</th>\n",
       "      <th>Company</th>\n",
       "      <th>ctc</th>\n",
       "      <th>experience</th>\n",
       "      <th>location</th>\n",
       "      <th>Description</th>\n",
       "      <th>skills_required</th>\n",
       "      <th>link</th>\n",
       "    </tr>\n",
       "  </thead>\n",
       "  <tbody>\n",
       "    <tr>\n",
       "      <td>0</td>\n",
       "      <td>Data Scientist</td>\n",
       "      <td>Baker Hughes Incorporated</td>\n",
       "      <td>Not Available</td>\n",
       "      <td>2</td>\n",
       "      <td>Bangalore</td>\n",
       "      <td>Essential Responsibilities: Work In Cross-Func...</td>\n",
       "      <td>Skills :data analysis, data science, data qual...</td>\n",
       "      <td>https://www.shine.com/jobs/data-scientist/bake...</td>\n",
       "    </tr>\n",
       "    <tr>\n",
       "      <td>1</td>\n",
       "      <td>Senior Data Scientist</td>\n",
       "      <td>PayPal Holdings, Inc.</td>\n",
       "      <td>Not Available</td>\n",
       "      <td>2</td>\n",
       "      <td>Bangalore</td>\n",
       "      <td>As A Senior Data Scientist At PayPal, You Will...</td>\n",
       "      <td>Skills :data mining, data science, data analys...</td>\n",
       "      <td>https://www.shine.com/jobs/senior-data-scienti...</td>\n",
       "    </tr>\n",
       "    <tr>\n",
       "      <td>2</td>\n",
       "      <td>Manager Data Science</td>\n",
       "      <td>Reliance Jio Infocomm Limited Inventory</td>\n",
       "      <td>Not Available</td>\n",
       "      <td>2</td>\n",
       "      <td>Bangalore</td>\n",
       "      <td>1. Specify, Design, And Implement New Data Sci...</td>\n",
       "      <td>Skills :data science, data management, data st...</td>\n",
       "      <td>https://www.shine.com/jobs/manager-data-scienc...</td>\n",
       "    </tr>\n",
       "    <tr>\n",
       "      <td>3</td>\n",
       "      <td>AI Developer/ Data Scientist</td>\n",
       "      <td>OPEXAI BUSINESS CONSULTING LLP</td>\n",
       "      <td>Not Available</td>\n",
       "      <td>2</td>\n",
       "      <td>Bangalore</td>\n",
       "      <td>About The Job: Selected Candidate'S Day - To -...</td>\n",
       "      <td>Skills :data structures,  big data, data scien...</td>\n",
       "      <td>https://www.shine.com/jobs/ai-developer-data-s...</td>\n",
       "    </tr>\n",
       "    <tr>\n",
       "      <td>4</td>\n",
       "      <td>Analyst Data Scientist</td>\n",
       "      <td>CAMSDATA Technologies India Pvt Ltd</td>\n",
       "      <td>Not Available</td>\n",
       "      <td>2</td>\n",
       "      <td>Bangalore</td>\n",
       "      <td>Build An In-Depth Understanding Of The Problem...</td>\n",
       "      <td>Skills :data analysis,  big data, data mining,...</td>\n",
       "      <td>https://www.shine.com/jobs/analyst-data-scient...</td>\n",
       "    </tr>\n",
       "    <tr>\n",
       "      <td>5</td>\n",
       "      <td>Data Scientist</td>\n",
       "      <td>Denave India Pvt Ltd.</td>\n",
       "      <td>Not Available</td>\n",
       "      <td>2</td>\n",
       "      <td>Bangalore</td>\n",
       "      <td>The Role Requires Deep Knowledge In Designing ...</td>\n",
       "      <td>Skills :data analysis,  statistical data analy...</td>\n",
       "      <td>https://www.shine.com/jobs/data-scientist/dena...</td>\n",
       "    </tr>\n",
       "    <tr>\n",
       "      <td>6</td>\n",
       "      <td>Principal Data Scientist &amp; Software Developmen...</td>\n",
       "      <td>IBM India Pvt. Limited</td>\n",
       "      <td>Not Available</td>\n",
       "      <td>2</td>\n",
       "      <td>Bangalore</td>\n",
       "      <td>As A Principal Data Scientist, You Will Be Res...</td>\n",
       "      <td>Skills : big data, data mining, data science, ...</td>\n",
       "      <td>https://www.shine.com/jobs/principal-data-scie...</td>\n",
       "    </tr>\n",
       "    <tr>\n",
       "      <td>7</td>\n",
       "      <td>Senior Data Scientist</td>\n",
       "      <td>PayPal Holdings, Inc.</td>\n",
       "      <td>Not Available</td>\n",
       "      <td>2</td>\n",
       "      <td>Bangalore</td>\n",
       "      <td>As A Senior Data Scientist At PayPal, You Will...</td>\n",
       "      <td>Skills :data mining, data science, data analys...</td>\n",
       "      <td>https://www.shine.com/jobs/senior-data-scienti...</td>\n",
       "    </tr>\n",
       "    <tr>\n",
       "      <td>8</td>\n",
       "      <td>Data Scientist - ML, Python</td>\n",
       "      <td>Brillio Technologies Pvt. Ltd</td>\n",
       "      <td>Not Available</td>\n",
       "      <td>2</td>\n",
       "      <td>Bangalore</td>\n",
       "      <td>* A Day In The Life Of Analytics Specialist Yo...</td>\n",
       "      <td>Skills : big data, data architects, data analy...</td>\n",
       "      <td>https://www.shine.com/jobs/data-scientist-ml-p...</td>\n",
       "    </tr>\n",
       "    <tr>\n",
       "      <td>9</td>\n",
       "      <td>Lead Data Scientist</td>\n",
       "      <td>PayPal Holdings, Inc.</td>\n",
       "      <td>Not Available</td>\n",
       "      <td>2</td>\n",
       "      <td>Bangalore</td>\n",
       "      <td>Fueled By A Fundamental Belief That Having Acc...</td>\n",
       "      <td>Skills :data mining, data science, data analys...</td>\n",
       "      <td>https://www.shine.com/jobs/lead-data-scientist...</td>\n",
       "    </tr>\n",
       "    <tr>\n",
       "      <td>10</td>\n",
       "      <td>Data Science Analyst - Traffic Quality</td>\n",
       "      <td>Amazon</td>\n",
       "      <td>Not Available</td>\n",
       "      <td>2</td>\n",
       "      <td>Bangalore</td>\n",
       "      <td>Advertising At Amazon Is A Fast-Growing Busine...</td>\n",
       "      <td>Skills :data science,  big data, data visualiz...</td>\n",
       "      <td>https://www.shine.com/jobs/data-science-analys...</td>\n",
       "    </tr>\n",
       "    <tr>\n",
       "      <td>11</td>\n",
       "      <td>MSSQL Data Science &amp; R Analytics Programmer</td>\n",
       "      <td>OPTIDESK SOLUTIONS PRIVATE LIMITED</td>\n",
       "      <td>Not Available</td>\n",
       "      <td>2</td>\n",
       "      <td>Bangalore</td>\n",
       "      <td>MSSQL Data Science &amp; R Analytics Programmer Fu...</td>\n",
       "      <td>Skills :data science,  supply chain solutions,...</td>\n",
       "      <td>https://www.shine.com/jobs/mssql-data-science-...</td>\n",
       "    </tr>\n",
       "    <tr>\n",
       "      <td>12</td>\n",
       "      <td>R&amp;D Senior Software Engineer (Data Science)</td>\n",
       "      <td>Virtuous Transactional Analytics Pvt. Ltd.</td>\n",
       "      <td>Not Available</td>\n",
       "      <td>2</td>\n",
       "      <td>Bangalore</td>\n",
       "      <td>:We Are Looking For An Experienced Data Scient...</td>\n",
       "      <td>Skills :data science,  life sciences,  compute...</td>\n",
       "      <td>https://www.shine.com/jobs/rd-senior-software-...</td>\n",
       "    </tr>\n",
       "    <tr>\n",
       "      <td>13</td>\n",
       "      <td>Data Scientist</td>\n",
       "      <td>Applied Materials India Pvt Ltd</td>\n",
       "      <td>Not Available</td>\n",
       "      <td>2</td>\n",
       "      <td>Bangalore</td>\n",
       "      <td>Key Responsibilities Build Data Pipelines For ...</td>\n",
       "      <td>Skills :data analysis,  big data, data science...</td>\n",
       "      <td>https://www.shine.com/jobs/data-scientist/appl...</td>\n",
       "    </tr>\n",
       "  </tbody>\n",
       "</table>\n",
       "</div>"
      ],
      "text/plain": [
       "                                                Title  \\\n",
       "0                                      Data Scientist   \n",
       "1                               Senior Data Scientist   \n",
       "2                                Manager Data Science   \n",
       "3                        AI Developer/ Data Scientist   \n",
       "4                              Analyst Data Scientist   \n",
       "5                                      Data Scientist   \n",
       "6   Principal Data Scientist & Software Developmen...   \n",
       "7                               Senior Data Scientist   \n",
       "8                         Data Scientist - ML, Python   \n",
       "9                                 Lead Data Scientist   \n",
       "10             Data Science Analyst - Traffic Quality   \n",
       "11        MSSQL Data Science & R Analytics Programmer   \n",
       "12        R&D Senior Software Engineer (Data Science)   \n",
       "13                                     Data Scientist   \n",
       "\n",
       "                                       Company            ctc  experience  \\\n",
       "0                    Baker Hughes Incorporated  Not Available           2   \n",
       "1                        PayPal Holdings, Inc.  Not Available           2   \n",
       "2      Reliance Jio Infocomm Limited Inventory  Not Available           2   \n",
       "3               OPEXAI BUSINESS CONSULTING LLP  Not Available           2   \n",
       "4          CAMSDATA Technologies India Pvt Ltd  Not Available           2   \n",
       "5                        Denave India Pvt Ltd.  Not Available           2   \n",
       "6                       IBM India Pvt. Limited  Not Available           2   \n",
       "7                        PayPal Holdings, Inc.  Not Available           2   \n",
       "8                Brillio Technologies Pvt. Ltd  Not Available           2   \n",
       "9                        PayPal Holdings, Inc.  Not Available           2   \n",
       "10                                      Amazon  Not Available           2   \n",
       "11          OPTIDESK SOLUTIONS PRIVATE LIMITED  Not Available           2   \n",
       "12  Virtuous Transactional Analytics Pvt. Ltd.  Not Available           2   \n",
       "13             Applied Materials India Pvt Ltd  Not Available           2   \n",
       "\n",
       "     location                                        Description  \\\n",
       "0   Bangalore  Essential Responsibilities: Work In Cross-Func...   \n",
       "1   Bangalore  As A Senior Data Scientist At PayPal, You Will...   \n",
       "2   Bangalore  1. Specify, Design, And Implement New Data Sci...   \n",
       "3   Bangalore  About The Job: Selected Candidate'S Day - To -...   \n",
       "4   Bangalore  Build An In-Depth Understanding Of The Problem...   \n",
       "5   Bangalore  The Role Requires Deep Knowledge In Designing ...   \n",
       "6   Bangalore  As A Principal Data Scientist, You Will Be Res...   \n",
       "7   Bangalore  As A Senior Data Scientist At PayPal, You Will...   \n",
       "8   Bangalore  * A Day In The Life Of Analytics Specialist Yo...   \n",
       "9   Bangalore  Fueled By A Fundamental Belief That Having Acc...   \n",
       "10  Bangalore  Advertising At Amazon Is A Fast-Growing Busine...   \n",
       "11  Bangalore  MSSQL Data Science & R Analytics Programmer Fu...   \n",
       "12  Bangalore  :We Are Looking For An Experienced Data Scient...   \n",
       "13  Bangalore  Key Responsibilities Build Data Pipelines For ...   \n",
       "\n",
       "                                      skills_required  \\\n",
       "0   Skills :data analysis, data science, data qual...   \n",
       "1   Skills :data mining, data science, data analys...   \n",
       "2   Skills :data science, data management, data st...   \n",
       "3   Skills :data structures,  big data, data scien...   \n",
       "4   Skills :data analysis,  big data, data mining,...   \n",
       "5   Skills :data analysis,  statistical data analy...   \n",
       "6   Skills : big data, data mining, data science, ...   \n",
       "7   Skills :data mining, data science, data analys...   \n",
       "8   Skills : big data, data architects, data analy...   \n",
       "9   Skills :data mining, data science, data analys...   \n",
       "10  Skills :data science,  big data, data visualiz...   \n",
       "11  Skills :data science,  supply chain solutions,...   \n",
       "12  Skills :data science,  life sciences,  compute...   \n",
       "13  Skills :data analysis,  big data, data science...   \n",
       "\n",
       "                                                 link  \n",
       "0   https://www.shine.com/jobs/data-scientist/bake...  \n",
       "1   https://www.shine.com/jobs/senior-data-scienti...  \n",
       "2   https://www.shine.com/jobs/manager-data-scienc...  \n",
       "3   https://www.shine.com/jobs/ai-developer-data-s...  \n",
       "4   https://www.shine.com/jobs/analyst-data-scient...  \n",
       "5   https://www.shine.com/jobs/data-scientist/dena...  \n",
       "6   https://www.shine.com/jobs/principal-data-scie...  \n",
       "7   https://www.shine.com/jobs/senior-data-scienti...  \n",
       "8   https://www.shine.com/jobs/data-scientist-ml-p...  \n",
       "9   https://www.shine.com/jobs/lead-data-scientist...  \n",
       "10  https://www.shine.com/jobs/data-science-analys...  \n",
       "11  https://www.shine.com/jobs/mssql-data-science-...  \n",
       "12  https://www.shine.com/jobs/rd-senior-software-...  \n",
       "13  https://www.shine.com/jobs/data-scientist/appl...  "
      ]
     },
     "execution_count": 44,
     "metadata": {},
     "output_type": "execute_result"
    }
   ],
   "source": [
    "pd.DataFrame(data[1:],columns=data[0])"
   ]
  },
  {
   "cell_type": "code",
   "execution_count": 8,
   "metadata": {},
   "outputs": [],
   "source": [
    "js = f'document.getElementById(\"id_loc\").value=\"{loc}\";'\n",
    "js += f'document.getElementsByClassName(\"submit\")[0].click();'\n",
    "wd.execute_script(js)"
   ]
  },
  {
   "cell_type": "code",
   "execution_count": 10,
   "metadata": {},
   "outputs": [
    {
     "data": {
      "text/plain": [
       "'Data Scientist\\nMay 16, 2020\\nBaker Hughes Incorporated\\n1 to 6 Yrs\\nBangalore\\nEssential Responsibilities: Work In Cross-Functional Teams To Translate Algorithms Into Commercially Viable Products And Services. Contribute To Technical Teams In Development, Deployment And Application Of Applied Analytics, Predictive Analytics And\\nSkills :data analysis, data science, data quality, data analytics, data cleansing\\nApply on website'"
      ]
     },
     "execution_count": 10,
     "metadata": {},
     "output_type": "execute_result"
    }
   ],
   "source": [
    "container = wd.find_element_by_id(\"id_results\")\n",
    "lst = container.find_elements_by_class_name(\"search_listing\")\n",
    "li = lst[0]\n",
    "li.text"
   ]
  },
  {
   "cell_type": "code",
   "execution_count": 13,
   "metadata": {},
   "outputs": [
    {
     "name": "stdout",
     "output_type": "stream",
     "text": [
      "Data Scientist https://www.shine.com/jobs/data-scientist/baker-hughes-incorporated/10509727/\n"
     ]
    }
   ],
   "source": [
    "title = li.find_element_by_tag_name(\"a\")\n",
    "name = title.get_attribute(\"title\")\n",
    "link = title.get_attribute(\"href\")\n",
    "print(name,link)"
   ]
  },
  {
   "cell_type": "code",
   "execution_count": 14,
   "metadata": {},
   "outputs": [
    {
     "data": {
      "text/plain": [
       "'Baker Hughes Incorporated'"
      ]
     },
     "execution_count": 14,
     "metadata": {},
     "output_type": "execute_result"
    }
   ],
   "source": [
    "company = li.find_element_by_class_name(\"cls_jobcompany\").text\n",
    "company"
   ]
  },
  {
   "cell_type": "code",
   "execution_count": 29,
   "metadata": {},
   "outputs": [
    {
     "data": {
      "text/plain": [
       "'5 to 10 Yrs'"
      ]
     },
     "execution_count": 29,
     "metadata": {},
     "output_type": "execute_result"
    }
   ],
   "source": [
    "exp = li.find_element_by_class_name(\"cls_jobexperience\").text\n",
    "exp"
   ]
  },
  {
   "cell_type": "code",
   "execution_count": 16,
   "metadata": {},
   "outputs": [
    {
     "data": {
      "text/plain": [
       "'Bangalore'"
      ]
     },
     "execution_count": 16,
     "metadata": {},
     "output_type": "execute_result"
    }
   ],
   "source": [
    "loc = li.find_element_by_class_name(\"snp_loc\").text\n",
    "loc"
   ]
  },
  {
   "cell_type": "code",
   "execution_count": 17,
   "metadata": {},
   "outputs": [
    {
     "data": {
      "text/plain": [
       "'Essential Responsibilities: Work In Cross-Functional Teams To Translate Algorithms Into Commercially Viable Products And Services. Contribute To Technical Teams In Development, Deployment And Application Of Applied Analytics, Predictive Analytics And'"
      ]
     },
     "execution_count": 17,
     "metadata": {},
     "output_type": "execute_result"
    }
   ],
   "source": [
    "jd = li.find_element_by_class_name(\"srcresult\").text\n",
    "jd"
   ]
  },
  {
   "cell_type": "code",
   "execution_count": 19,
   "metadata": {},
   "outputs": [
    {
     "data": {
      "text/plain": [
       "'Skills :data analysis, data science, data quality, data analytics, data cleansing'"
      ]
     },
     "execution_count": 19,
     "metadata": {},
     "output_type": "execute_result"
    }
   ],
   "source": [
    "req_skills = li.find_element_by_class_name(\"cls_jobskill\").text\n",
    "req_skills"
   ]
  },
  {
   "cell_type": "code",
   "execution_count": null,
   "metadata": {},
   "outputs": [],
   "source": []
  }
 ],
 "metadata": {
  "kernelspec": {
   "display_name": "Python 3",
   "language": "python",
   "name": "python3"
  },
  "language_info": {
   "codemirror_mode": {
    "name": "ipython",
    "version": 3
   },
   "file_extension": ".py",
   "mimetype": "text/x-python",
   "name": "python",
   "nbconvert_exporter": "python",
   "pygments_lexer": "ipython3",
   "version": "3.7.4"
  }
 },
 "nbformat": 4,
 "nbformat_minor": 2
}
